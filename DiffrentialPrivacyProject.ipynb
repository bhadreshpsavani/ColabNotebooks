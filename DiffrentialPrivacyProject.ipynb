{
  "nbformat": 4,
  "nbformat_minor": 0,
  "metadata": {
    "colab": {
      "name": "DiffrentialPrivacyProject.ipynb",
      "version": "0.3.2",
      "provenance": [],
      "collapsed_sections": [],
      "include_colab_link": true
    },
    "kernelspec": {
      "name": "python3",
      "display_name": "Python 3"
    },
    "accelerator": "GPU"
  },
  "cells": [
    {
      "cell_type": "markdown",
      "metadata": {
        "id": "view-in-github",
        "colab_type": "text"
      },
      "source": [
        "<a href=\"https://colab.research.google.com/github/bhadreshpsavani/ColabNotebooks/blob/master/DiffrentialPrivacyProject.ipynb\" target=\"_parent\"><img src=\"https://colab.research.google.com/assets/colab-badge.svg\" alt=\"Open In Colab\"/></a>"
      ]
    },
    {
      "cell_type": "markdown",
      "metadata": {
        "id": "_okSDsCV_kGP",
        "colab_type": "text"
      },
      "source": [
        "#Diffrential Privacy Project\n",
        "\n",
        "## MNIST Dataset Senario"
      ]
    },
    {
      "cell_type": "code",
      "metadata": {
        "id": "JXBY6DjaAR3J",
        "colab_type": "code",
        "outputId": "b2ae4495-8563-4c1f-bfce-b037615ed6bb",
        "colab": {
          "base_uri": "https://localhost:8080/",
          "height": 1000
        }
      },
      "source": [
        "%matplotlib inline\n",
        "%config InlineBackend.figure_format = 'retina'\n",
        "!pip install syft\n",
        "import matplotlib.pyplot as plt\n",
        "import numpy as np\n",
        "import torch\n",
        "\n",
        "from torch import nn\n",
        "from torch import optim\n",
        "import torch.nn.functional as F\n",
        "from torchvision import datasets, transforms, models\n",
        "\n",
        "from sklearn.model_selection import train_test_split"
      ],
      "execution_count": 1,
      "outputs": [
        {
          "output_type": "stream",
          "text": [
            "Collecting syft\n",
            "\u001b[?25l  Downloading https://files.pythonhosted.org/packages/36/e0/7466833685e21917a78b3e26503e675c9bc82bd81c0d9a6a90c30adf9938/syft-0.1.20a1-py3-none-any.whl (213kB)\n",
            "\u001b[K     |████████████████████████████████| 215kB 2.7MB/s \n",
            "\u001b[?25hRequirement already satisfied: Flask>=1.0.2 in /usr/local/lib/python3.6/dist-packages (from syft) (1.0.3)\n",
            "Collecting tf-encrypted>=0.5.4 (from syft)\n",
            "\u001b[?25l  Downloading https://files.pythonhosted.org/packages/07/ce/da9916e7e78f736894b15538b702c0b213fd5d60a7fd6e481d74033a90c0/tf_encrypted-0.5.6-py3-none-manylinux1_x86_64.whl (1.4MB)\n",
            "\u001b[K     |████████████████████████████████| 1.4MB 40.1MB/s \n",
            "\u001b[?25hRequirement already satisfied: torchvision>=0.3.0 in /usr/local/lib/python3.6/dist-packages (from syft) (0.3.0)\n",
            "Collecting zstd>=1.4.0.0 (from syft)\n",
            "\u001b[?25l  Downloading https://files.pythonhosted.org/packages/8e/27/1ea8086d37424e83ab692015cc8dd7d5e37cf791e339633a40dc828dfb74/zstd-1.4.0.0.tar.gz (450kB)\n",
            "\u001b[K     |████████████████████████████████| 450kB 38.9MB/s \n",
            "\u001b[?25hRequirement already satisfied: tblib>=1.4.0 in /usr/local/lib/python3.6/dist-packages (from syft) (1.4.0)\n",
            "Collecting msgpack>=0.6.1 (from syft)\n",
            "\u001b[?25l  Downloading https://files.pythonhosted.org/packages/92/7e/ae9e91c1bb8d846efafd1f353476e3fd7309778b582d2fb4cea4cc15b9a2/msgpack-0.6.1-cp36-cp36m-manylinux1_x86_64.whl (248kB)\n",
            "\u001b[K     |████████████████████████████████| 256kB 42.3MB/s \n",
            "\u001b[?25hCollecting websockets>=7.0 (from syft)\n",
            "\u001b[?25l  Downloading https://files.pythonhosted.org/packages/61/5e/2fe6afbb796c6ac5c006460b5503cd674d33706660337f2dbff10d4aa12d/websockets-8.0-cp36-cp36m-manylinux1_x86_64.whl (72kB)\n",
            "\u001b[K     |████████████████████████████████| 81kB 22.4MB/s \n",
            "\u001b[?25hCollecting lz4>=2.1.6 (from syft)\n",
            "\u001b[?25l  Downloading https://files.pythonhosted.org/packages/0a/c6/96bbb3525a63ebc53ea700cc7d37ab9045542d33b4d262d0f0408ad9bbf2/lz4-2.1.10-cp36-cp36m-manylinux1_x86_64.whl (385kB)\n",
            "\u001b[K     |████████████████████████████████| 389kB 42.4MB/s \n",
            "\u001b[?25hCollecting websocket-client>=0.56.0 (from syft)\n",
            "\u001b[?25l  Downloading https://files.pythonhosted.org/packages/29/19/44753eab1fdb50770ac69605527e8859468f3c0fd7dc5a76dd9c4dbd7906/websocket_client-0.56.0-py2.py3-none-any.whl (200kB)\n",
            "\u001b[K     |████████████████████████████████| 204kB 40.5MB/s \n",
            "\u001b[?25hRequirement already satisfied: scikit-learn>=0.21.0 in /usr/local/lib/python3.6/dist-packages (from syft) (0.21.2)\n",
            "Requirement already satisfied: torch>=1.1 in /usr/local/lib/python3.6/dist-packages (from syft) (1.1.0)\n",
            "Requirement already satisfied: numpy>=1.14.0 in /usr/local/lib/python3.6/dist-packages (from syft) (1.16.4)\n",
            "Collecting flask-socketio>=3.3.2 (from syft)\n",
            "  Downloading https://files.pythonhosted.org/packages/4b/68/fe4806d3a0a5909d274367eb9b3b87262906c1515024f46c2443a36a0c82/Flask_SocketIO-4.1.0-py2.py3-none-any.whl\n",
            "Requirement already satisfied: Werkzeug>=0.14 in /usr/local/lib/python3.6/dist-packages (from Flask>=1.0.2->syft) (0.15.4)\n",
            "Requirement already satisfied: Jinja2>=2.10 in /usr/local/lib/python3.6/dist-packages (from Flask>=1.0.2->syft) (2.10.1)\n",
            "Requirement already satisfied: click>=5.1 in /usr/local/lib/python3.6/dist-packages (from Flask>=1.0.2->syft) (7.0)\n",
            "Requirement already satisfied: itsdangerous>=0.24 in /usr/local/lib/python3.6/dist-packages (from Flask>=1.0.2->syft) (1.1.0)\n",
            "Collecting pyyaml>=5.1 (from tf-encrypted>=0.5.4->syft)\n",
            "\u001b[?25l  Downloading https://files.pythonhosted.org/packages/a3/65/837fefac7475963d1eccf4aa684c23b95aa6c1d033a2c5965ccb11e22623/PyYAML-5.1.1.tar.gz (274kB)\n",
            "\u001b[K     |████████████████████████████████| 276kB 33.2MB/s \n",
            "\u001b[?25hRequirement already satisfied: tensorflow<2,>=1.12.0 in /usr/local/lib/python3.6/dist-packages (from tf-encrypted>=0.5.4->syft) (1.14.0)\n",
            "Requirement already satisfied: pillow>=4.1.1 in /usr/local/lib/python3.6/dist-packages (from torchvision>=0.3.0->syft) (4.3.0)\n",
            "Requirement already satisfied: six in /usr/local/lib/python3.6/dist-packages (from torchvision>=0.3.0->syft) (1.12.0)\n",
            "Requirement already satisfied: joblib>=0.11 in /usr/local/lib/python3.6/dist-packages (from scikit-learn>=0.21.0->syft) (0.13.2)\n",
            "Requirement already satisfied: scipy>=0.17.0 in /usr/local/lib/python3.6/dist-packages (from scikit-learn>=0.21.0->syft) (1.3.0)\n",
            "Collecting python-socketio>=2.1.0 (from flask-socketio>=3.3.2->syft)\n",
            "\u001b[?25l  Downloading https://files.pythonhosted.org/packages/26/1b/57e860a86f2a01be86ae1dacfa0cd8c4dfbfcd4593322268b61b5a07b564/python_socketio-4.2.0-py2.py3-none-any.whl (46kB)\n",
            "\u001b[K     |████████████████████████████████| 51kB 19.1MB/s \n",
            "\u001b[?25hRequirement already satisfied: MarkupSafe>=0.23 in /usr/local/lib/python3.6/dist-packages (from Jinja2>=2.10->Flask>=1.0.2->syft) (1.1.1)\n",
            "Requirement already satisfied: keras-preprocessing>=1.0.5 in /usr/local/lib/python3.6/dist-packages (from tensorflow<2,>=1.12.0->tf-encrypted>=0.5.4->syft) (1.1.0)\n",
            "Requirement already satisfied: grpcio>=1.8.6 in /usr/local/lib/python3.6/dist-packages (from tensorflow<2,>=1.12.0->tf-encrypted>=0.5.4->syft) (1.15.0)\n",
            "Requirement already satisfied: absl-py>=0.7.0 in /usr/local/lib/python3.6/dist-packages (from tensorflow<2,>=1.12.0->tf-encrypted>=0.5.4->syft) (0.7.1)\n",
            "Requirement already satisfied: google-pasta>=0.1.6 in /usr/local/lib/python3.6/dist-packages (from tensorflow<2,>=1.12.0->tf-encrypted>=0.5.4->syft) (0.1.7)\n",
            "Requirement already satisfied: gast>=0.2.0 in /usr/local/lib/python3.6/dist-packages (from tensorflow<2,>=1.12.0->tf-encrypted>=0.5.4->syft) (0.2.2)\n",
            "Requirement already satisfied: protobuf>=3.6.1 in /usr/local/lib/python3.6/dist-packages (from tensorflow<2,>=1.12.0->tf-encrypted>=0.5.4->syft) (3.7.1)\n",
            "Requirement already satisfied: tensorboard<1.15.0,>=1.14.0 in /usr/local/lib/python3.6/dist-packages (from tensorflow<2,>=1.12.0->tf-encrypted>=0.5.4->syft) (1.14.0)\n",
            "Requirement already satisfied: termcolor>=1.1.0 in /usr/local/lib/python3.6/dist-packages (from tensorflow<2,>=1.12.0->tf-encrypted>=0.5.4->syft) (1.1.0)\n",
            "Requirement already satisfied: astor>=0.6.0 in /usr/local/lib/python3.6/dist-packages (from tensorflow<2,>=1.12.0->tf-encrypted>=0.5.4->syft) (0.8.0)\n",
            "Requirement already satisfied: tensorflow-estimator<1.15.0rc0,>=1.14.0rc0 in /usr/local/lib/python3.6/dist-packages (from tensorflow<2,>=1.12.0->tf-encrypted>=0.5.4->syft) (1.14.0)\n",
            "Requirement already satisfied: wheel>=0.26 in /usr/local/lib/python3.6/dist-packages (from tensorflow<2,>=1.12.0->tf-encrypted>=0.5.4->syft) (0.33.4)\n",
            "Requirement already satisfied: keras-applications>=1.0.6 in /usr/local/lib/python3.6/dist-packages (from tensorflow<2,>=1.12.0->tf-encrypted>=0.5.4->syft) (1.0.8)\n",
            "Requirement already satisfied: wrapt>=1.11.1 in /usr/local/lib/python3.6/dist-packages (from tensorflow<2,>=1.12.0->tf-encrypted>=0.5.4->syft) (1.11.2)\n",
            "Requirement already satisfied: olefile in /usr/local/lib/python3.6/dist-packages (from pillow>=4.1.1->torchvision>=0.3.0->syft) (0.46)\n",
            "Collecting python-engineio>=3.8.0 (from python-socketio>=2.1.0->flask-socketio>=3.3.2->syft)\n",
            "\u001b[?25l  Downloading https://files.pythonhosted.org/packages/bd/b8/0fc389ca5c445051b37b17802f80bbf1b51c1e3b48b772ee608efbb90583/python_engineio-3.8.2.post1-py2.py3-none-any.whl (119kB)\n",
            "\u001b[K     |████████████████████████████████| 122kB 40.8MB/s \n",
            "\u001b[?25hRequirement already satisfied: setuptools in /usr/local/lib/python3.6/dist-packages (from protobuf>=3.6.1->tensorflow<2,>=1.12.0->tf-encrypted>=0.5.4->syft) (41.0.1)\n",
            "Requirement already satisfied: markdown>=2.6.8 in /usr/local/lib/python3.6/dist-packages (from tensorboard<1.15.0,>=1.14.0->tensorflow<2,>=1.12.0->tf-encrypted>=0.5.4->syft) (3.1.1)\n",
            "Requirement already satisfied: h5py in /usr/local/lib/python3.6/dist-packages (from keras-applications>=1.0.6->tensorflow<2,>=1.12.0->tf-encrypted>=0.5.4->syft) (2.8.0)\n",
            "Building wheels for collected packages: zstd, pyyaml\n",
            "  Building wheel for zstd (setup.py) ... \u001b[?25l\u001b[?25hdone\n",
            "  Stored in directory: /root/.cache/pip/wheels/ad/9a/f4/3105b5209674ac77fcca7fede95184c62a95df0196888e0e76\n",
            "  Building wheel for pyyaml (setup.py) ... \u001b[?25l\u001b[?25hdone\n",
            "  Stored in directory: /root/.cache/pip/wheels/16/27/a1/775c62ddea7bfa62324fd1f65847ed31c55dadb6051481ba3f\n",
            "Successfully built zstd pyyaml\n",
            "Installing collected packages: pyyaml, tf-encrypted, zstd, msgpack, websockets, lz4, websocket-client, python-engineio, python-socketio, flask-socketio, syft\n",
            "  Found existing installation: PyYAML 3.13\n",
            "    Uninstalling PyYAML-3.13:\n",
            "      Successfully uninstalled PyYAML-3.13\n",
            "  Found existing installation: msgpack 0.5.6\n",
            "    Uninstalling msgpack-0.5.6:\n",
            "      Successfully uninstalled msgpack-0.5.6\n",
            "Successfully installed flask-socketio-4.1.0 lz4-2.1.10 msgpack-0.6.1 python-engineio-3.8.2.post1 python-socketio-4.2.0 pyyaml-5.1.1 syft-0.1.20a1 tf-encrypted-0.5.6 websocket-client-0.56.0 websockets-8.0 zstd-1.4.0.0\n"
          ],
          "name": "stdout"
        }
      ]
    },
    {
      "cell_type": "code",
      "metadata": {
        "id": "GrfvhvBc_Oc7",
        "colab_type": "code",
        "outputId": "bff29e0e-d35e-4352-bee0-47d48ed3ad84",
        "colab": {
          "base_uri": "https://localhost:8080/",
          "height": 275
        }
      },
      "source": [
        "import torchvision.datasets as datasets\n",
        "mnist_trainset = datasets.MNIST(root='./data', train=True, download=True, transform=None)"
      ],
      "execution_count": 2,
      "outputs": [
        {
          "output_type": "stream",
          "text": [
            "\r0it [00:00, ?it/s]"
          ],
          "name": "stderr"
        },
        {
          "output_type": "stream",
          "text": [
            "Downloading http://yann.lecun.com/exdb/mnist/train-images-idx3-ubyte.gz to ./data/MNIST/raw/train-images-idx3-ubyte.gz\n"
          ],
          "name": "stdout"
        },
        {
          "output_type": "stream",
          "text": [
            "9920512it [00:02, 3530287.61it/s]                             \n"
          ],
          "name": "stderr"
        },
        {
          "output_type": "stream",
          "text": [
            "Extracting ./data/MNIST/raw/train-images-idx3-ubyte.gz\n"
          ],
          "name": "stdout"
        },
        {
          "output_type": "stream",
          "text": [
            "\r0it [00:00, ?it/s]"
          ],
          "name": "stderr"
        },
        {
          "output_type": "stream",
          "text": [
            "Downloading http://yann.lecun.com/exdb/mnist/train-labels-idx1-ubyte.gz to ./data/MNIST/raw/train-labels-idx1-ubyte.gz\n"
          ],
          "name": "stdout"
        },
        {
          "output_type": "stream",
          "text": [
            "32768it [00:00, 56139.60it/s]                           \n",
            "0it [00:00, ?it/s]"
          ],
          "name": "stderr"
        },
        {
          "output_type": "stream",
          "text": [
            "Extracting ./data/MNIST/raw/train-labels-idx1-ubyte.gz\n",
            "Downloading http://yann.lecun.com/exdb/mnist/t10k-images-idx3-ubyte.gz to ./data/MNIST/raw/t10k-images-idx3-ubyte.gz\n"
          ],
          "name": "stdout"
        },
        {
          "output_type": "stream",
          "text": [
            "1654784it [00:01, 936665.90it/s]                             \n",
            "0it [00:00, ?it/s]"
          ],
          "name": "stderr"
        },
        {
          "output_type": "stream",
          "text": [
            "Extracting ./data/MNIST/raw/t10k-images-idx3-ubyte.gz\n",
            "Downloading http://yann.lecun.com/exdb/mnist/t10k-labels-idx1-ubyte.gz to ./data/MNIST/raw/t10k-labels-idx1-ubyte.gz\n"
          ],
          "name": "stdout"
        },
        {
          "output_type": "stream",
          "text": [
            "8192it [00:00, 21113.13it/s]            "
          ],
          "name": "stderr"
        },
        {
          "output_type": "stream",
          "text": [
            "Extracting ./data/MNIST/raw/t10k-labels-idx1-ubyte.gz\n",
            "Processing...\n",
            "Done!\n"
          ],
          "name": "stdout"
        },
        {
          "output_type": "stream",
          "text": [
            "\n"
          ],
          "name": "stderr"
        }
      ]
    },
    {
      "cell_type": "code",
      "metadata": {
        "id": "wZ7K5Izb_SS-",
        "colab_type": "code",
        "outputId": "699c7611-7be7-4cce-9d68-41fc57429ea1",
        "colab": {
          "base_uri": "https://localhost:8080/",
          "height": 105
        }
      },
      "source": [
        "train_data = mnist_trainset.train_data\n",
        "train_targets = mnist_trainset.train_labels"
      ],
      "execution_count": 3,
      "outputs": [
        {
          "output_type": "stream",
          "text": [
            "/usr/local/lib/python3.6/dist-packages/torchvision/datasets/mnist.py:53: UserWarning: train_data has been renamed data\n",
            "  warnings.warn(\"train_data has been renamed data\")\n",
            "/usr/local/lib/python3.6/dist-packages/torchvision/datasets/mnist.py:43: UserWarning: train_labels has been renamed targets\n",
            "  warnings.warn(\"train_labels has been renamed targets\")\n"
          ],
          "name": "stderr"
        }
      ]
    },
    {
      "cell_type": "code",
      "metadata": {
        "id": "3c-NssrH_Ua1",
        "colab_type": "code",
        "outputId": "9962ecdd-a5ac-4246-a4ee-937d61a64005",
        "colab": {
          "base_uri": "https://localhost:8080/",
          "height": 105
        }
      },
      "source": [
        "test_data = mnist_trainset.test_data\n",
        "test_targets = mnist_trainset.test_labels"
      ],
      "execution_count": 4,
      "outputs": [
        {
          "output_type": "stream",
          "text": [
            "/usr/local/lib/python3.6/dist-packages/torchvision/datasets/mnist.py:58: UserWarning: test_data has been renamed data\n",
            "  warnings.warn(\"test_data has been renamed data\")\n",
            "/usr/local/lib/python3.6/dist-packages/torchvision/datasets/mnist.py:48: UserWarning: test_labels has been renamed targets\n",
            "  warnings.warn(\"test_labels has been renamed targets\")\n"
          ],
          "name": "stderr"
        }
      ]
    },
    {
      "cell_type": "code",
      "metadata": {
        "id": "1VRT8vdyWWtJ",
        "colab_type": "code",
        "outputId": "44c890df-8087-4baf-a921-db05421c0de6",
        "colab": {
          "base_uri": "https://localhost:8080/",
          "height": 34
        }
      },
      "source": [
        "len(train_data)"
      ],
      "execution_count": 5,
      "outputs": [
        {
          "output_type": "execute_result",
          "data": {
            "text/plain": [
              "60000"
            ]
          },
          "metadata": {
            "tags": []
          },
          "execution_count": 5
        }
      ]
    },
    {
      "cell_type": "code",
      "metadata": {
        "id": "vNH0zE1NFXRC",
        "colab_type": "code",
        "outputId": "b4411d13-a5d1-4534-b70b-94fd3bec93d4",
        "colab": {
          "base_uri": "https://localhost:8080/",
          "height": 34
        }
      },
      "source": [
        "train_datasets=[]\n",
        "train_lables=[]\n",
        "j=0\n",
        "for i in range(60):\n",
        "  k=int((len(train_data)/60)*(i+1))\n",
        "  train_datasets.append(train_data[j:k])\n",
        "  train_lables.append(train_targets[j:k])\n",
        "  j=k\n",
        "k=0\n",
        "j=0\n",
        "for i in range(60):\n",
        "  k=int((len(test_data)/60)*(i+1))\n",
        "  train_datasets.append(test_data[j:k])\n",
        "  train_lables.append(test_targets[j:k])\n",
        "  j=k\n",
        "print(len(train_datasets))"
      ],
      "execution_count": 7,
      "outputs": [
        {
          "output_type": "stream",
          "text": [
            "120\n"
          ],
          "name": "stdout"
        }
      ]
    },
    {
      "cell_type": "code",
      "metadata": {
        "id": "qZTDSaHMAU8V",
        "colab_type": "code",
        "colab": {}
      },
      "source": [
        "train_loaders=[]\n",
        "test_loaders=[]\n",
        "for a in range(119):\n",
        "  \n",
        "  X=train_datasets[a].numpy()\n",
        "  y=train_lables[a].numpy()\n",
        "  \n",
        "  X_train, X_test, y_train, y_test = train_test_split(X, y, test_size=0.15)\n",
        "\n",
        "  BATCH_SIZE = 32\n",
        "\n",
        "  torch_X_train = torch.from_numpy(X_train).type(torch.LongTensor)\n",
        "  torch_y_train = torch.from_numpy(y_train).type(torch.LongTensor) # data type is long\n",
        "\n",
        "  # create feature and targets tensor for test set.\n",
        "  torch_X_test = torch.from_numpy(X_test).type(torch.LongTensor)\n",
        "  torch_y_test = torch.from_numpy(y_test).type(torch.LongTensor) # data type is long\n",
        "\n",
        "  torch_X_train = torch_X_train.view(-1,1,28,28).float()\n",
        "  torch_X_test = torch_X_test.view(-1,1,28,28).float()\n",
        "\n",
        "  # Pytorch train and test sets\n",
        "  train = torch.utils.data.TensorDataset(torch_X_train,torch_y_train)\n",
        "  test = torch.utils.data.TensorDataset(torch_X_test,torch_y_test)\n",
        "\n",
        "  # data loader\n",
        "  train_loader = torch.utils.data.DataLoader(train, batch_size = BATCH_SIZE, shuffle = False)\n",
        "  test_loader = torch.utils.data.DataLoader(test, batch_size = BATCH_SIZE, shuffle = False)\n",
        "  \n",
        "  train_loaders.append(train_loader)\n",
        "  test_loaders.append(test_loader)"
      ],
      "execution_count": 0,
      "outputs": []
    },
    {
      "cell_type": "code",
      "metadata": {
        "id": "x-OBL_P-3xLc",
        "colab_type": "code",
        "colab": {}
      },
      "source": [
        "device = torch.device(\"cuda\" if torch.cuda.is_available() else \"cpu\")"
      ],
      "execution_count": 0,
      "outputs": []
    },
    {
      "cell_type": "code",
      "metadata": {
        "id": "stzItoxoDdY_",
        "colab_type": "code",
        "colab": {}
      },
      "source": [
        "class CNN(nn.Module):\n",
        "    def __init__(self):\n",
        "        super(CNN, self).__init__()\n",
        "        self.conv1 = nn.Conv2d(1, 32, kernel_size=5)\n",
        "        self.conv2 = nn.Conv2d(32, 32, kernel_size=5)\n",
        "        self.conv3 = nn.Conv2d(32,64, kernel_size=5)\n",
        "        self.fc1 = nn.Linear(3*3*64, 256)\n",
        "        self.fc2 = nn.Linear(256, 10)\n",
        "\n",
        "    def forward(self, x):\n",
        "        x = F.relu(self.conv1(x))\n",
        "        #x = F.dropout(x, p=0.5, training=self.training)\n",
        "        x = F.relu(F.max_pool2d(self.conv2(x), 2))\n",
        "        x = F.dropout(x, p=0.5, training=self.training)\n",
        "        x = F.relu(F.max_pool2d(self.conv3(x),2))\n",
        "        x = F.dropout(x, p=0.5, training=self.training)\n",
        "        x = x.view(-1,3*3*64 )\n",
        "        x = F.relu(self.fc1(x))\n",
        "        x = F.dropout(x, training=self.training)\n",
        "        x = self.fc2(x)\n",
        "        return F.log_softmax(x, dim=1)"
      ],
      "execution_count": 0,
      "outputs": []
    },
    {
      "cell_type": "code",
      "metadata": {
        "id": "Je_kJdiTEovr",
        "colab_type": "code",
        "colab": {}
      },
      "source": [
        "def fit(model, train_loader):\n",
        "    optimizer = torch.optim.Adam(model.parameters())#,lr=0.001, betas=(0.9,0.999))\n",
        "    error = nn.CrossEntropyLoss()\n",
        "    EPOCHS = 5\n",
        "    model.to(device);\n",
        "    model.train()\n",
        "    for epoch in range(EPOCHS):\n",
        "        correct = 0\n",
        "        for batch_idx, (X_batch, y_batch) in enumerate(train_loader):\n",
        "            X_batch, y_batch = X_batch.to(device), y_batch.to(device)\n",
        "            var_X_batch = X_batch.float()\n",
        "            var_y_batch = y_batch\n",
        "            optimizer.zero_grad()\n",
        "            output = model(var_X_batch)\n",
        "            loss = error(output, var_y_batch)\n",
        "            loss.backward()\n",
        "            optimizer.step()\n",
        "\n",
        "            # Total correct predictions\n",
        "            predicted = torch.max(output.data, 1)[1] \n",
        "            correct += (predicted == var_y_batch).sum()\n",
        "    \n",
        "            #print(correct)\n",
        "       \n",
        "        print('Epoch : {} [{}/{} ({:.0f}%)]\\tLoss: {:.6f}\\t Accuracy:{:.3f}%'.format(\n",
        "            epoch, batch_idx*len(X_batch), len(train_loader.dataset), 100.*batch_idx / len(train_loader), loss, float(correct*100) / float(BATCH_SIZE*(batch_idx+1))))\n",
        "    return model"
      ],
      "execution_count": 0,
      "outputs": []
    },
    {
      "cell_type": "code",
      "metadata": {
        "id": "YgbH4R-BE1ez",
        "colab_type": "code",
        "colab": {}
      },
      "source": [
        "def evaluate(model, test_loader):\n",
        "#model = mlp\n",
        "    correct = 0\n",
        "    model.to(device)\n",
        "    model.eval()\n",
        "    for test_imgs, test_labels in test_loader:\n",
        "        #print(test_imgs.shape)\n",
        "        test_imgs, test_labels=test_imgs.to(device),test_labels.to(device)\n",
        "        test_imgs = test_imgs.float()\n",
        "        output = model(test_imgs)\n",
        "        predicted = torch.max(output,1)[1]\n",
        "        correct += (predicted == test_labels).sum()\n",
        "    print(\"Test accuracy:{:.3f}% \".format( float(correct) / (len(test_loader)*BATCH_SIZE)))"
      ],
      "execution_count": 0,
      "outputs": []
    },
    {
      "cell_type": "code",
      "metadata": {
        "id": "3s7hTDmTqvc5",
        "colab_type": "code",
        "outputId": "1addcfe7-81cd-4332-b104-e659c4d91505",
        "colab": {
          "base_uri": "https://localhost:8080/",
          "height": 122
        }
      },
      "source": [
        "# Run this cell to mount your Google Drive.\n",
        "from google.colab import drive\n",
        "drive.mount('/content/drive')"
      ],
      "execution_count": 13,
      "outputs": [
        {
          "output_type": "stream",
          "text": [
            "Go to this URL in a browser: https://accounts.google.com/o/oauth2/auth?client_id=947318989803-6bn6qk8qdgf4n4g3pfee6491hc0brc4i.apps.googleusercontent.com&redirect_uri=urn%3Aietf%3Awg%3Aoauth%3A2.0%3Aoob&scope=email%20https%3A%2F%2Fwww.googleapis.com%2Fauth%2Fdocs.test%20https%3A%2F%2Fwww.googleapis.com%2Fauth%2Fdrive%20https%3A%2F%2Fwww.googleapis.com%2Fauth%2Fdrive.photos.readonly%20https%3A%2F%2Fwww.googleapis.com%2Fauth%2Fpeopleapi.readonly&response_type=code\n",
            "\n",
            "Enter your authorization code:\n",
            "··········\n",
            "Mounted at /content/drive\n"
          ],
          "name": "stdout"
        }
      ]
    },
    {
      "cell_type": "code",
      "metadata": {
        "id": "NZ5IAL0WFGpa",
        "colab_type": "code",
        "colab": {
          "base_uri": "https://localhost:8080/",
          "height": 1000
        },
        "outputId": "3e7bd100-4d24-44ad-d740-b2fd055a1cfb"
      },
      "source": [
        "for i in range(119):\n",
        "  print(\"for model : \"+str(i))\n",
        "  cnn = CNN()\n",
        "  fit(cnn, train_loaders[i])\n",
        "  evaluate(cnn, test_loaders[i])\n",
        "  model_name='drive/My Drive/Colab Notebooks/SecureAndPrivateAI/DiffrentialPrivacyProject/11Models/checkpoint_model_'+str(i)+'.pth'\n",
        "  torch.save(cnn,model_name)\n",
        "  \n",
        "  print(\"model_\"+str(i)+\" is saved\")"
      ],
      "execution_count": 15,
      "outputs": [
        {
          "output_type": "stream",
          "text": [
            "for model : 0\n",
            "Epoch : 0 [468/850 (96%)]\tLoss: 2.219300\t Accuracy:12.963%\n",
            "Epoch : 1 [468/850 (96%)]\tLoss: 2.035947\t Accuracy:19.676%\n",
            "Epoch : 2 [468/850 (96%)]\tLoss: 1.045288\t Accuracy:41.204%\n",
            "Epoch : 3 [468/850 (96%)]\tLoss: 0.290597\t Accuracy:62.731%\n",
            "Epoch : 4 [468/850 (96%)]\tLoss: 1.240679\t Accuracy:72.454%\n",
            "Test accuracy:0.856% \n"
          ],
          "name": "stdout"
        },
        {
          "output_type": "stream",
          "text": [
            "/usr/local/lib/python3.6/dist-packages/torch/serialization.py:256: UserWarning: Couldn't retrieve source code for container of type CNN. It won't be checked for correctness upon loading.\n",
            "  \"type \" + obj.__name__ + \". It won't be checked \"\n"
          ],
          "name": "stderr"
        },
        {
          "output_type": "stream",
          "text": [
            "model_0 is saved\n",
            "for model : 1\n",
            "Epoch : 0 [468/850 (96%)]\tLoss: 2.356295\t Accuracy:14.352%\n",
            "Epoch : 1 [468/850 (96%)]\tLoss: 1.717198\t Accuracy:22.685%\n",
            "Epoch : 2 [468/850 (96%)]\tLoss: 0.975337\t Accuracy:49.653%\n",
            "Epoch : 3 [468/850 (96%)]\tLoss: 0.732888\t Accuracy:67.708%\n",
            "Epoch : 4 [468/850 (96%)]\tLoss: 0.395243\t Accuracy:72.454%\n",
            "Test accuracy:0.819% \n",
            "model_1 is saved\n",
            "for model : 2\n",
            "Epoch : 0 [468/850 (96%)]\tLoss: 2.098316\t Accuracy:15.162%\n",
            "Epoch : 1 [468/850 (96%)]\tLoss: 1.266075\t Accuracy:38.657%\n",
            "Epoch : 2 [468/850 (96%)]\tLoss: 0.943176\t Accuracy:61.921%\n",
            "Epoch : 3 [468/850 (96%)]\tLoss: 0.740601\t Accuracy:71.644%\n",
            "Epoch : 4 [468/850 (96%)]\tLoss: 0.701883\t Accuracy:76.620%\n",
            "Test accuracy:0.856% \n",
            "model_2 is saved\n",
            "for model : 3\n",
            "Epoch : 0 [468/850 (96%)]\tLoss: 2.189446\t Accuracy:14.468%\n",
            "Epoch : 1 [468/850 (96%)]\tLoss: 1.457695\t Accuracy:27.315%\n",
            "Epoch : 2 [468/850 (96%)]\tLoss: 0.914384\t Accuracy:52.662%\n",
            "Epoch : 3 [468/850 (96%)]\tLoss: 0.470793\t Accuracy:66.898%\n",
            "Epoch : 4 [468/850 (96%)]\tLoss: 0.618903\t Accuracy:74.190%\n",
            "Test accuracy:0.856% \n",
            "model_3 is saved\n",
            "for model : 4\n",
            "Epoch : 0 [468/850 (96%)]\tLoss: 2.333492\t Accuracy:11.690%\n",
            "Epoch : 1 [468/850 (96%)]\tLoss: 2.215246\t Accuracy:19.907%\n",
            "Epoch : 2 [468/850 (96%)]\tLoss: 1.832099\t Accuracy:32.176%\n",
            "Epoch : 3 [468/850 (96%)]\tLoss: 1.707483\t Accuracy:39.815%\n",
            "Epoch : 4 [468/850 (96%)]\tLoss: 1.742165\t Accuracy:45.718%\n",
            "Test accuracy:0.637% \n",
            "model_4 is saved\n",
            "for model : 5\n",
            "Epoch : 0 [468/850 (96%)]\tLoss: 2.376123\t Accuracy:12.731%\n",
            "Epoch : 1 [468/850 (96%)]\tLoss: 1.866450\t Accuracy:21.065%\n",
            "Epoch : 2 [468/850 (96%)]\tLoss: 1.293399\t Accuracy:36.921%\n",
            "Epoch : 3 [468/850 (96%)]\tLoss: 1.184738\t Accuracy:49.074%\n",
            "Epoch : 4 [468/850 (96%)]\tLoss: 0.545210\t Accuracy:63.426%\n",
            "Test accuracy:0.775% \n",
            "model_5 is saved\n",
            "for model : 6\n",
            "Epoch : 0 [468/850 (96%)]\tLoss: 2.037070\t Accuracy:15.856%\n",
            "Epoch : 1 [468/850 (96%)]\tLoss: 2.066175\t Accuracy:35.764%\n",
            "Epoch : 2 [468/850 (96%)]\tLoss: 1.554364\t Accuracy:54.977%\n",
            "Epoch : 3 [468/850 (96%)]\tLoss: 1.550847\t Accuracy:65.972%\n",
            "Epoch : 4 [468/850 (96%)]\tLoss: 0.725198\t Accuracy:75.231%\n",
            "Test accuracy:0.856% \n",
            "model_6 is saved\n",
            "for model : 7\n",
            "Epoch : 0 [468/850 (96%)]\tLoss: 2.257045\t Accuracy:10.648%\n",
            "Epoch : 1 [468/850 (96%)]\tLoss: 1.899548\t Accuracy:16.782%\n",
            "Epoch : 2 [468/850 (96%)]\tLoss: 1.367592\t Accuracy:35.648%\n",
            "Epoch : 3 [468/850 (96%)]\tLoss: 0.702098\t Accuracy:52.546%\n",
            "Epoch : 4 [468/850 (96%)]\tLoss: 0.646757\t Accuracy:63.542%\n",
            "Test accuracy:0.787% \n",
            "model_7 is saved\n",
            "for model : 8\n",
            "Epoch : 0 [468/850 (96%)]\tLoss: 2.165372\t Accuracy:14.120%\n",
            "Epoch : 1 [468/850 (96%)]\tLoss: 1.388289\t Accuracy:25.116%\n",
            "Epoch : 2 [468/850 (96%)]\tLoss: 1.115508\t Accuracy:44.097%\n",
            "Epoch : 3 [468/850 (96%)]\tLoss: 0.806466\t Accuracy:59.375%\n",
            "Epoch : 4 [468/850 (96%)]\tLoss: 0.655740\t Accuracy:68.750%\n",
            "Test accuracy:0.806% \n",
            "model_8 is saved\n",
            "for model : 9\n",
            "Epoch : 0 [468/850 (96%)]\tLoss: 2.258398\t Accuracy:13.889%\n",
            "Epoch : 1 [468/850 (96%)]\tLoss: 1.785010\t Accuracy:31.944%\n",
            "Epoch : 2 [468/850 (96%)]\tLoss: 1.013000\t Accuracy:60.185%\n",
            "Epoch : 3 [468/850 (96%)]\tLoss: 0.841238\t Accuracy:71.065%\n",
            "Epoch : 4 [468/850 (96%)]\tLoss: 0.854438\t Accuracy:75.000%\n",
            "Test accuracy:0.794% \n",
            "model_9 is saved\n",
            "for model : 10\n",
            "Epoch : 0 [468/850 (96%)]\tLoss: 2.285966\t Accuracy:11.227%\n",
            "Epoch : 1 [468/850 (96%)]\tLoss: 2.146289\t Accuracy:22.917%\n",
            "Epoch : 2 [468/850 (96%)]\tLoss: 1.165388\t Accuracy:39.005%\n",
            "Epoch : 3 [468/850 (96%)]\tLoss: 0.855395\t Accuracy:56.366%\n",
            "Epoch : 4 [468/850 (96%)]\tLoss: 0.480742\t Accuracy:66.088%\n",
            "Test accuracy:0.775% \n",
            "model_10 is saved\n",
            "for model : 11\n",
            "Epoch : 0 [468/850 (96%)]\tLoss: 2.287323\t Accuracy:10.532%\n",
            "Epoch : 1 [468/850 (96%)]\tLoss: 2.168070\t Accuracy:21.759%\n",
            "Epoch : 2 [468/850 (96%)]\tLoss: 1.623251\t Accuracy:40.625%\n",
            "Epoch : 3 [468/850 (96%)]\tLoss: 1.161867\t Accuracy:63.310%\n",
            "Epoch : 4 [468/850 (96%)]\tLoss: 0.806119\t Accuracy:72.685%\n",
            "Test accuracy:0.856% \n",
            "model_11 is saved\n",
            "for model : 12\n",
            "Epoch : 0 [468/850 (96%)]\tLoss: 2.254299\t Accuracy:10.764%\n",
            "Epoch : 1 [468/850 (96%)]\tLoss: 2.276834\t Accuracy:14.931%\n",
            "Epoch : 2 [468/850 (96%)]\tLoss: 1.742061\t Accuracy:27.894%\n",
            "Epoch : 3 [468/850 (96%)]\tLoss: 1.095438\t Accuracy:42.940%\n",
            "Epoch : 4 [468/850 (96%)]\tLoss: 0.961467\t Accuracy:55.208%\n",
            "Test accuracy:0.756% \n",
            "model_12 is saved\n",
            "for model : 13\n",
            "Epoch : 0 [468/850 (96%)]\tLoss: 2.279292\t Accuracy:12.963%\n",
            "Epoch : 1 [468/850 (96%)]\tLoss: 1.745360\t Accuracy:24.769%\n",
            "Epoch : 2 [468/850 (96%)]\tLoss: 1.331723\t Accuracy:43.519%\n",
            "Epoch : 3 [468/850 (96%)]\tLoss: 0.829782\t Accuracy:54.977%\n",
            "Epoch : 4 [468/850 (96%)]\tLoss: 0.904745\t Accuracy:62.037%\n",
            "Test accuracy:0.787% \n",
            "model_13 is saved\n",
            "for model : 14\n",
            "Epoch : 0 [468/850 (96%)]\tLoss: 2.155058\t Accuracy:14.468%\n",
            "Epoch : 1 [468/850 (96%)]\tLoss: 1.777460\t Accuracy:24.421%\n",
            "Epoch : 2 [468/850 (96%)]\tLoss: 1.635862\t Accuracy:43.634%\n",
            "Epoch : 3 [468/850 (96%)]\tLoss: 1.070556\t Accuracy:60.532%\n",
            "Epoch : 4 [468/850 (96%)]\tLoss: 0.880940\t Accuracy:66.551%\n",
            "Test accuracy:0.769% \n",
            "model_14 is saved\n",
            "for model : 15\n",
            "Epoch : 0 [468/850 (96%)]\tLoss: 2.105170\t Accuracy:10.648%\n",
            "Epoch : 1 [468/850 (96%)]\tLoss: 1.838192\t Accuracy:23.380%\n",
            "Epoch : 2 [468/850 (96%)]\tLoss: 1.601904\t Accuracy:35.532%\n",
            "Epoch : 3 [468/850 (96%)]\tLoss: 1.425433\t Accuracy:54.745%\n",
            "Epoch : 4 [468/850 (96%)]\tLoss: 1.119076\t Accuracy:64.699%\n",
            "Test accuracy:0.775% \n",
            "model_15 is saved\n",
            "for model : 16\n",
            "Epoch : 0 [468/850 (96%)]\tLoss: 2.060158\t Accuracy:15.046%\n",
            "Epoch : 1 [468/850 (96%)]\tLoss: 1.207164\t Accuracy:34.028%\n",
            "Epoch : 2 [468/850 (96%)]\tLoss: 0.895624\t Accuracy:59.144%\n",
            "Epoch : 3 [468/850 (96%)]\tLoss: 0.784595\t Accuracy:68.171%\n",
            "Epoch : 4 [468/850 (96%)]\tLoss: 0.511635\t Accuracy:76.620%\n",
            "Test accuracy:0.781% \n",
            "model_16 is saved\n",
            "for model : 17\n",
            "Epoch : 0 [468/850 (96%)]\tLoss: 2.172414\t Accuracy:10.648%\n",
            "Epoch : 1 [468/850 (96%)]\tLoss: 1.941969\t Accuracy:20.023%\n",
            "Epoch : 2 [468/850 (96%)]\tLoss: 1.639942\t Accuracy:38.310%\n",
            "Epoch : 3 [468/850 (96%)]\tLoss: 1.148841\t Accuracy:52.546%\n",
            "Epoch : 4 [468/850 (96%)]\tLoss: 1.251135\t Accuracy:62.269%\n",
            "Test accuracy:0.806% \n",
            "model_17 is saved\n",
            "for model : 18\n",
            "Epoch : 0 [468/850 (96%)]\tLoss: 2.086310\t Accuracy:14.699%\n",
            "Epoch : 1 [468/850 (96%)]\tLoss: 1.883764\t Accuracy:23.495%\n",
            "Epoch : 2 [468/850 (96%)]\tLoss: 1.641278\t Accuracy:35.648%\n",
            "Epoch : 3 [468/850 (96%)]\tLoss: 0.443921\t Accuracy:52.546%\n",
            "Epoch : 4 [468/850 (96%)]\tLoss: 0.409321\t Accuracy:62.500%\n",
            "Test accuracy:0.750% \n",
            "model_18 is saved\n",
            "for model : 19\n",
            "Epoch : 0 [468/850 (96%)]\tLoss: 2.154000\t Accuracy:16.319%\n",
            "Epoch : 1 [468/850 (96%)]\tLoss: 1.275328\t Accuracy:36.227%\n",
            "Epoch : 2 [468/850 (96%)]\tLoss: 1.356853\t Accuracy:56.134%\n",
            "Epoch : 3 [468/850 (96%)]\tLoss: 1.188863\t Accuracy:64.120%\n",
            "Epoch : 4 [468/850 (96%)]\tLoss: 0.791125\t Accuracy:68.866%\n",
            "Test accuracy:0.787% \n",
            "model_19 is saved\n",
            "for model : 20\n",
            "Epoch : 0 [468/850 (96%)]\tLoss: 2.326660\t Accuracy:12.731%\n",
            "Epoch : 1 [468/850 (96%)]\tLoss: 1.692837\t Accuracy:28.704%\n",
            "Epoch : 2 [468/850 (96%)]\tLoss: 1.389031\t Accuracy:56.250%\n",
            "Epoch : 3 [468/850 (96%)]\tLoss: 1.112408\t Accuracy:64.931%\n",
            "Epoch : 4 [468/850 (96%)]\tLoss: 0.824112\t Accuracy:72.569%\n",
            "Test accuracy:0.806% \n",
            "model_20 is saved\n",
            "for model : 21\n",
            "Epoch : 0 [468/850 (96%)]\tLoss: 2.276144\t Accuracy:12.384%\n",
            "Epoch : 1 [468/850 (96%)]\tLoss: 1.613783\t Accuracy:26.389%\n",
            "Epoch : 2 [468/850 (96%)]\tLoss: 1.154089\t Accuracy:45.139%\n",
            "Epoch : 3 [468/850 (96%)]\tLoss: 1.153702\t Accuracy:51.852%\n",
            "Epoch : 4 [468/850 (96%)]\tLoss: 0.840917\t Accuracy:62.037%\n",
            "Test accuracy:0.800% \n",
            "model_21 is saved\n",
            "for model : 22\n",
            "Epoch : 0 [468/850 (96%)]\tLoss: 2.266021\t Accuracy:10.532%\n",
            "Epoch : 1 [468/850 (96%)]\tLoss: 1.990020\t Accuracy:16.667%\n",
            "Epoch : 2 [468/850 (96%)]\tLoss: 1.694763\t Accuracy:32.755%\n",
            "Epoch : 3 [468/850 (96%)]\tLoss: 0.969256\t Accuracy:55.093%\n",
            "Epoch : 4 [468/850 (96%)]\tLoss: 0.723436\t Accuracy:64.583%\n",
            "Test accuracy:0.819% \n",
            "model_22 is saved\n",
            "for model : 23\n",
            "Epoch : 0 [468/850 (96%)]\tLoss: 2.272248\t Accuracy:14.468%\n",
            "Epoch : 1 [468/850 (96%)]\tLoss: 2.155818\t Accuracy:27.083%\n",
            "Epoch : 2 [468/850 (96%)]\tLoss: 1.259212\t Accuracy:55.556%\n",
            "Epoch : 3 [468/850 (96%)]\tLoss: 1.268003\t Accuracy:64.699%\n",
            "Epoch : 4 [468/850 (96%)]\tLoss: 0.894259\t Accuracy:72.338%\n",
            "Test accuracy:0.844% \n",
            "model_23 is saved\n",
            "for model : 24\n",
            "Epoch : 0 [468/850 (96%)]\tLoss: 2.258484\t Accuracy:12.616%\n",
            "Epoch : 1 [468/850 (96%)]\tLoss: 1.613540\t Accuracy:24.653%\n",
            "Epoch : 2 [468/850 (96%)]\tLoss: 0.920725\t Accuracy:45.486%\n",
            "Epoch : 3 [468/850 (96%)]\tLoss: 1.036948\t Accuracy:60.995%\n",
            "Epoch : 4 [468/850 (96%)]\tLoss: 0.615268\t Accuracy:71.065%\n",
            "Test accuracy:0.831% \n",
            "model_24 is saved\n",
            "for model : 25\n",
            "Epoch : 0 [468/850 (96%)]\tLoss: 2.278220\t Accuracy:11.343%\n",
            "Epoch : 1 [468/850 (96%)]\tLoss: 1.846024\t Accuracy:29.861%\n",
            "Epoch : 2 [468/850 (96%)]\tLoss: 0.925694\t Accuracy:49.421%\n",
            "Epoch : 3 [468/850 (96%)]\tLoss: 0.800373\t Accuracy:61.921%\n",
            "Epoch : 4 [468/850 (96%)]\tLoss: 0.919464\t Accuracy:67.824%\n",
            "Test accuracy:0.812% \n",
            "model_25 is saved\n",
            "for model : 26\n",
            "Epoch : 0 [468/850 (96%)]\tLoss: 2.259582\t Accuracy:11.458%\n",
            "Epoch : 1 [468/850 (96%)]\tLoss: 1.808574\t Accuracy:20.023%\n",
            "Epoch : 2 [468/850 (96%)]\tLoss: 1.178604\t Accuracy:41.667%\n",
            "Epoch : 3 [468/850 (96%)]\tLoss: 1.526241\t Accuracy:60.764%\n",
            "Epoch : 4 [468/850 (96%)]\tLoss: 1.099510\t Accuracy:68.056%\n",
            "Test accuracy:0.856% \n",
            "model_26 is saved\n",
            "for model : 27\n",
            "Epoch : 0 [468/850 (96%)]\tLoss: 2.243978\t Accuracy:14.468%\n",
            "Epoch : 1 [468/850 (96%)]\tLoss: 1.729589\t Accuracy:29.282%\n",
            "Epoch : 2 [468/850 (96%)]\tLoss: 0.757155\t Accuracy:46.759%\n",
            "Epoch : 3 [468/850 (96%)]\tLoss: 0.806846\t Accuracy:62.500%\n",
            "Epoch : 4 [468/850 (96%)]\tLoss: 0.614923\t Accuracy:69.792%\n",
            "Test accuracy:0.781% \n",
            "model_27 is saved\n",
            "for model : 28\n",
            "Epoch : 0 [468/850 (96%)]\tLoss: 2.149425\t Accuracy:13.079%\n",
            "Epoch : 1 [468/850 (96%)]\tLoss: 1.954215\t Accuracy:26.273%\n",
            "Epoch : 2 [468/850 (96%)]\tLoss: 1.607165\t Accuracy:45.718%\n",
            "Epoch : 3 [468/850 (96%)]\tLoss: 0.634383\t Accuracy:61.111%\n",
            "Epoch : 4 [468/850 (96%)]\tLoss: 1.006368\t Accuracy:69.676%\n",
            "Test accuracy:0.775% \n",
            "model_28 is saved\n",
            "for model : 29\n",
            "Epoch : 0 [468/850 (96%)]\tLoss: 2.272452\t Accuracy:10.880%\n",
            "Epoch : 1 [468/850 (96%)]\tLoss: 2.062929\t Accuracy:16.204%\n",
            "Epoch : 2 [468/850 (96%)]\tLoss: 1.674060\t Accuracy:35.069%\n",
            "Epoch : 3 [468/850 (96%)]\tLoss: 1.328752\t Accuracy:56.019%\n",
            "Epoch : 4 [468/850 (96%)]\tLoss: 1.349473\t Accuracy:62.616%\n",
            "Test accuracy:0.738% \n",
            "model_29 is saved\n",
            "for model : 30\n",
            "Epoch : 0 [468/850 (96%)]\tLoss: 2.316365\t Accuracy:11.690%\n",
            "Epoch : 1 [468/850 (96%)]\tLoss: 1.989282\t Accuracy:17.245%\n",
            "Epoch : 2 [468/850 (96%)]\tLoss: 1.812913\t Accuracy:32.870%\n",
            "Epoch : 3 [468/850 (96%)]\tLoss: 1.416157\t Accuracy:44.792%\n",
            "Epoch : 4 [468/850 (96%)]\tLoss: 0.986997\t Accuracy:52.315%\n",
            "Test accuracy:0.706% \n",
            "model_30 is saved\n",
            "for model : 31\n",
            "Epoch : 0 [468/850 (96%)]\tLoss: 2.279537\t Accuracy:10.648%\n",
            "Epoch : 1 [468/850 (96%)]\tLoss: 1.751216\t Accuracy:20.255%\n",
            "Epoch : 2 [468/850 (96%)]\tLoss: 1.628115\t Accuracy:35.417%\n",
            "Epoch : 3 [468/850 (96%)]\tLoss: 1.161488\t Accuracy:48.958%\n",
            "Epoch : 4 [468/850 (96%)]\tLoss: 0.939271\t Accuracy:56.944%\n",
            "Test accuracy:0.719% \n",
            "model_31 is saved\n",
            "for model : 32\n",
            "Epoch : 0 [468/850 (96%)]\tLoss: 2.165917\t Accuracy:13.542%\n",
            "Epoch : 1 [468/850 (96%)]\tLoss: 1.773404\t Accuracy:25.231%\n",
            "Epoch : 2 [468/850 (96%)]\tLoss: 1.023706\t Accuracy:42.708%\n",
            "Epoch : 3 [468/850 (96%)]\tLoss: 0.756868\t Accuracy:59.028%\n",
            "Epoch : 4 [468/850 (96%)]\tLoss: 0.567227\t Accuracy:69.444%\n",
            "Test accuracy:0.794% \n",
            "model_32 is saved\n",
            "for model : 33\n",
            "Epoch : 0 [468/850 (96%)]\tLoss: 2.294122\t Accuracy:10.995%\n",
            "Epoch : 1 [468/850 (96%)]\tLoss: 2.081172\t Accuracy:18.634%\n",
            "Epoch : 2 [468/850 (96%)]\tLoss: 1.397497\t Accuracy:40.625%\n",
            "Epoch : 3 [468/850 (96%)]\tLoss: 1.393036\t Accuracy:57.755%\n",
            "Epoch : 4 [468/850 (96%)]\tLoss: 0.953583\t Accuracy:68.403%\n",
            "Test accuracy:0.787% \n",
            "model_33 is saved\n",
            "for model : 34\n",
            "Epoch : 0 [468/850 (96%)]\tLoss: 2.083722\t Accuracy:14.236%\n",
            "Epoch : 1 [468/850 (96%)]\tLoss: 1.450885\t Accuracy:30.903%\n",
            "Epoch : 2 [468/850 (96%)]\tLoss: 0.804751\t Accuracy:55.787%\n",
            "Epoch : 3 [468/850 (96%)]\tLoss: 0.636139\t Accuracy:63.310%\n",
            "Epoch : 4 [468/850 (96%)]\tLoss: 1.011216\t Accuracy:70.833%\n",
            "Test accuracy:0.812% \n",
            "model_34 is saved\n",
            "for model : 35\n",
            "Epoch : 0 [468/850 (96%)]\tLoss: 2.355741\t Accuracy:14.583%\n",
            "Epoch : 1 [468/850 (96%)]\tLoss: 1.808756\t Accuracy:25.926%\n",
            "Epoch : 2 [468/850 (96%)]\tLoss: 0.729862\t Accuracy:55.903%\n",
            "Epoch : 3 [468/850 (96%)]\tLoss: 1.012219\t Accuracy:67.940%\n",
            "Epoch : 4 [468/850 (96%)]\tLoss: 0.319564\t Accuracy:74.769%\n",
            "Test accuracy:0.844% \n",
            "model_35 is saved\n",
            "for model : 36\n",
            "Epoch : 0 [468/850 (96%)]\tLoss: 2.213292\t Accuracy:17.708%\n",
            "Epoch : 1 [468/850 (96%)]\tLoss: 1.262987\t Accuracy:40.278%\n",
            "Epoch : 2 [468/850 (96%)]\tLoss: 0.692756\t Accuracy:63.426%\n",
            "Epoch : 3 [468/850 (96%)]\tLoss: 0.554135\t Accuracy:72.685%\n",
            "Epoch : 4 [468/850 (96%)]\tLoss: 0.625407\t Accuracy:76.389%\n",
            "Test accuracy:0.819% \n",
            "model_36 is saved\n",
            "for model : 37\n",
            "Epoch : 0 [468/850 (96%)]\tLoss: 2.269777\t Accuracy:15.394%\n",
            "Epoch : 1 [468/850 (96%)]\tLoss: 2.259127\t Accuracy:22.338%\n",
            "Epoch : 2 [468/850 (96%)]\tLoss: 0.963592\t Accuracy:47.685%\n",
            "Epoch : 3 [468/850 (96%)]\tLoss: 1.374448\t Accuracy:62.500%\n",
            "Epoch : 4 [468/850 (96%)]\tLoss: 0.584699\t Accuracy:70.718%\n",
            "Test accuracy:0.800% \n",
            "model_37 is saved\n",
            "for model : 38\n",
            "Epoch : 0 [468/850 (96%)]\tLoss: 2.008934\t Accuracy:17.477%\n",
            "Epoch : 1 [468/850 (96%)]\tLoss: 1.440024\t Accuracy:38.542%\n",
            "Epoch : 2 [468/850 (96%)]\tLoss: 0.638665\t Accuracy:60.880%\n",
            "Epoch : 3 [468/850 (96%)]\tLoss: 0.976709\t Accuracy:70.718%\n",
            "Epoch : 4 [468/850 (96%)]\tLoss: 0.785194\t Accuracy:77.546%\n",
            "Test accuracy:0.812% \n",
            "model_38 is saved\n",
            "for model : 39\n",
            "Epoch : 0 [468/850 (96%)]\tLoss: 2.096265\t Accuracy:15.278%\n",
            "Epoch : 1 [468/850 (96%)]\tLoss: 1.479283\t Accuracy:34.722%\n",
            "Epoch : 2 [468/850 (96%)]\tLoss: 0.819088\t Accuracy:55.324%\n",
            "Epoch : 3 [468/850 (96%)]\tLoss: 0.438653\t Accuracy:65.972%\n",
            "Epoch : 4 [468/850 (96%)]\tLoss: 0.272368\t Accuracy:73.727%\n",
            "Test accuracy:0.831% \n",
            "model_39 is saved\n",
            "for model : 40\n",
            "Epoch : 0 [468/850 (96%)]\tLoss: 2.104754\t Accuracy:13.773%\n",
            "Epoch : 1 [468/850 (96%)]\tLoss: 1.710768\t Accuracy:25.463%\n",
            "Epoch : 2 [468/850 (96%)]\tLoss: 1.375940\t Accuracy:47.685%\n",
            "Epoch : 3 [468/850 (96%)]\tLoss: 0.951299\t Accuracy:63.889%\n",
            "Epoch : 4 [468/850 (96%)]\tLoss: 0.914688\t Accuracy:70.139%\n",
            "Test accuracy:0.800% \n",
            "model_40 is saved\n",
            "for model : 41\n",
            "Epoch : 0 [468/850 (96%)]\tLoss: 2.222829\t Accuracy:11.806%\n",
            "Epoch : 1 [468/850 (96%)]\tLoss: 1.819723\t Accuracy:24.653%\n",
            "Epoch : 2 [468/850 (96%)]\tLoss: 1.308901\t Accuracy:46.296%\n",
            "Epoch : 3 [468/850 (96%)]\tLoss: 0.848825\t Accuracy:62.616%\n",
            "Epoch : 4 [468/850 (96%)]\tLoss: 1.025510\t Accuracy:65.856%\n",
            "Test accuracy:0.756% \n",
            "model_41 is saved\n",
            "for model : 42\n",
            "Epoch : 0 [468/850 (96%)]\tLoss: 2.273425\t Accuracy:11.111%\n",
            "Epoch : 1 [468/850 (96%)]\tLoss: 1.976116\t Accuracy:16.898%\n",
            "Epoch : 2 [468/850 (96%)]\tLoss: 1.790237\t Accuracy:31.597%\n",
            "Epoch : 3 [468/850 (96%)]\tLoss: 1.467239\t Accuracy:49.074%\n",
            "Epoch : 4 [468/850 (96%)]\tLoss: 1.223263\t Accuracy:56.829%\n",
            "Test accuracy:0.694% \n",
            "model_42 is saved\n",
            "for model : 43\n",
            "Epoch : 0 [468/850 (96%)]\tLoss: 2.099152\t Accuracy:14.120%\n",
            "Epoch : 1 [468/850 (96%)]\tLoss: 1.848899\t Accuracy:25.810%\n",
            "Epoch : 2 [468/850 (96%)]\tLoss: 0.870370\t Accuracy:44.329%\n",
            "Epoch : 3 [468/850 (96%)]\tLoss: 0.900047\t Accuracy:58.449%\n",
            "Epoch : 4 [468/850 (96%)]\tLoss: 1.291319\t Accuracy:64.931%\n",
            "Test accuracy:0.756% \n",
            "model_43 is saved\n",
            "for model : 44\n",
            "Epoch : 0 [468/850 (96%)]\tLoss: 2.277780\t Accuracy:13.079%\n",
            "Epoch : 1 [468/850 (96%)]\tLoss: 1.703280\t Accuracy:19.213%\n",
            "Epoch : 2 [468/850 (96%)]\tLoss: 1.545131\t Accuracy:34.722%\n",
            "Epoch : 3 [468/850 (96%)]\tLoss: 1.261492\t Accuracy:53.009%\n",
            "Epoch : 4 [468/850 (96%)]\tLoss: 1.456340\t Accuracy:58.681%\n",
            "Test accuracy:0.769% \n",
            "model_44 is saved\n",
            "for model : 45\n",
            "Epoch : 0 [468/850 (96%)]\tLoss: 2.270806\t Accuracy:13.079%\n",
            "Epoch : 1 [468/850 (96%)]\tLoss: 2.238112\t Accuracy:20.370%\n",
            "Epoch : 2 [468/850 (96%)]\tLoss: 1.607488\t Accuracy:39.005%\n",
            "Epoch : 3 [468/850 (96%)]\tLoss: 1.948451\t Accuracy:54.630%\n",
            "Epoch : 4 [468/850 (96%)]\tLoss: 1.494308\t Accuracy:60.880%\n",
            "Test accuracy:0.800% \n",
            "model_45 is saved\n",
            "for model : 46\n",
            "Epoch : 0 [468/850 (96%)]\tLoss: 2.156748\t Accuracy:13.542%\n",
            "Epoch : 1 [468/850 (96%)]\tLoss: 1.256975\t Accuracy:30.671%\n",
            "Epoch : 2 [468/850 (96%)]\tLoss: 1.060664\t Accuracy:55.093%\n",
            "Epoch : 3 [468/850 (96%)]\tLoss: 0.780473\t Accuracy:67.477%\n",
            "Epoch : 4 [468/850 (96%)]\tLoss: 0.469342\t Accuracy:73.727%\n",
            "Test accuracy:0.831% \n",
            "model_46 is saved\n",
            "for model : 47\n",
            "Epoch : 0 [468/850 (96%)]\tLoss: 2.291952\t Accuracy:11.227%\n",
            "Epoch : 1 [468/850 (96%)]\tLoss: 2.119507\t Accuracy:17.477%\n",
            "Epoch : 2 [468/850 (96%)]\tLoss: 1.928501\t Accuracy:29.167%\n",
            "Epoch : 3 [468/850 (96%)]\tLoss: 1.847141\t Accuracy:38.889%\n",
            "Epoch : 4 [468/850 (96%)]\tLoss: 1.598890\t Accuracy:45.718%\n",
            "Test accuracy:0.575% \n",
            "model_47 is saved\n",
            "for model : 48\n",
            "Epoch : 0 [468/850 (96%)]\tLoss: 2.012706\t Accuracy:13.426%\n",
            "Epoch : 1 [468/850 (96%)]\tLoss: 1.842119\t Accuracy:30.671%\n",
            "Epoch : 2 [468/850 (96%)]\tLoss: 0.536221\t Accuracy:59.375%\n",
            "Epoch : 3 [468/850 (96%)]\tLoss: 0.893996\t Accuracy:70.023%\n",
            "Epoch : 4 [468/850 (96%)]\tLoss: 0.449081\t Accuracy:73.727%\n",
            "Test accuracy:0.819% \n",
            "model_48 is saved\n",
            "for model : 49\n",
            "Epoch : 0 [468/850 (96%)]\tLoss: 2.326647\t Accuracy:12.153%\n",
            "Epoch : 1 [468/850 (96%)]\tLoss: 2.406541\t Accuracy:19.444%\n",
            "Epoch : 2 [468/850 (96%)]\tLoss: 1.561616\t Accuracy:31.713%\n",
            "Epoch : 3 [468/850 (96%)]\tLoss: 1.129692\t Accuracy:45.486%\n",
            "Epoch : 4 [468/850 (96%)]\tLoss: 1.281694\t Accuracy:59.144%\n",
            "Test accuracy:0.794% \n",
            "model_49 is saved\n",
            "for model : 50\n",
            "Epoch : 0 [468/850 (96%)]\tLoss: 2.165805\t Accuracy:14.583%\n",
            "Epoch : 1 [468/850 (96%)]\tLoss: 1.723439\t Accuracy:28.472%\n",
            "Epoch : 2 [468/850 (96%)]\tLoss: 1.147877\t Accuracy:51.042%\n",
            "Epoch : 3 [468/850 (96%)]\tLoss: 0.670233\t Accuracy:67.708%\n",
            "Epoch : 4 [468/850 (96%)]\tLoss: 0.543101\t Accuracy:74.653%\n",
            "Test accuracy:0.812% \n",
            "model_50 is saved\n",
            "for model : 51\n",
            "Epoch : 0 [468/850 (96%)]\tLoss: 2.096490\t Accuracy:16.319%\n",
            "Epoch : 1 [468/850 (96%)]\tLoss: 1.194225\t Accuracy:40.856%\n",
            "Epoch : 2 [468/850 (96%)]\tLoss: 0.879314\t Accuracy:59.259%\n",
            "Epoch : 3 [468/850 (96%)]\tLoss: 0.961326\t Accuracy:70.370%\n",
            "Epoch : 4 [468/850 (96%)]\tLoss: 0.468630\t Accuracy:78.472%\n",
            "Test accuracy:0.869% \n",
            "model_51 is saved\n",
            "for model : 52\n",
            "Epoch : 0 [468/850 (96%)]\tLoss: 2.292260\t Accuracy:13.657%\n",
            "Epoch : 1 [468/850 (96%)]\tLoss: 2.122833\t Accuracy:18.519%\n",
            "Epoch : 2 [468/850 (96%)]\tLoss: 1.011778\t Accuracy:38.426%\n",
            "Epoch : 3 [468/850 (96%)]\tLoss: 0.554761\t Accuracy:62.384%\n",
            "Epoch : 4 [468/850 (96%)]\tLoss: 0.692044\t Accuracy:68.866%\n",
            "Test accuracy:0.806% \n",
            "model_52 is saved\n",
            "for model : 53\n",
            "Epoch : 0 [468/850 (96%)]\tLoss: 2.234076\t Accuracy:11.458%\n",
            "Epoch : 1 [468/850 (96%)]\tLoss: 1.902252\t Accuracy:22.338%\n",
            "Epoch : 2 [468/850 (96%)]\tLoss: 1.290870\t Accuracy:47.917%\n",
            "Epoch : 3 [468/850 (96%)]\tLoss: 0.679116\t Accuracy:65.741%\n",
            "Epoch : 4 [468/850 (96%)]\tLoss: 0.631842\t Accuracy:73.843%\n",
            "Test accuracy:0.869% \n",
            "model_53 is saved\n",
            "for model : 54\n",
            "Epoch : 0 [468/850 (96%)]\tLoss: 2.282453\t Accuracy:12.153%\n",
            "Epoch : 1 [468/850 (96%)]\tLoss: 1.994992\t Accuracy:20.023%\n",
            "Epoch : 2 [468/850 (96%)]\tLoss: 1.529184\t Accuracy:39.815%\n",
            "Epoch : 3 [468/850 (96%)]\tLoss: 1.007178\t Accuracy:53.935%\n",
            "Epoch : 4 [468/850 (96%)]\tLoss: 0.699203\t Accuracy:66.319%\n",
            "Test accuracy:0.794% \n",
            "model_54 is saved\n",
            "for model : 55\n",
            "Epoch : 0 [468/850 (96%)]\tLoss: 2.236501\t Accuracy:11.921%\n",
            "Epoch : 1 [468/850 (96%)]\tLoss: 1.610543\t Accuracy:29.398%\n",
            "Epoch : 2 [468/850 (96%)]\tLoss: 0.892609\t Accuracy:53.819%\n",
            "Epoch : 3 [468/850 (96%)]\tLoss: 0.873630\t Accuracy:69.676%\n",
            "Epoch : 4 [468/850 (96%)]\tLoss: 0.727218\t Accuracy:73.380%\n",
            "Test accuracy:0.850% \n",
            "model_55 is saved\n",
            "for model : 56\n",
            "Epoch : 0 [468/850 (96%)]\tLoss: 2.097064\t Accuracy:12.037%\n",
            "Epoch : 1 [468/850 (96%)]\tLoss: 1.623273\t Accuracy:37.731%\n",
            "Epoch : 2 [468/850 (96%)]\tLoss: 1.705079\t Accuracy:59.491%\n",
            "Epoch : 3 [468/850 (96%)]\tLoss: 1.895490\t Accuracy:65.046%\n",
            "Epoch : 4 [468/850 (96%)]\tLoss: 1.144939\t Accuracy:74.074%\n",
            "Test accuracy:0.863% \n",
            "model_56 is saved\n",
            "for model : 57\n",
            "Epoch : 0 [468/850 (96%)]\tLoss: 2.272763\t Accuracy:13.542%\n",
            "Epoch : 1 [468/850 (96%)]\tLoss: 2.136389\t Accuracy:21.528%\n",
            "Epoch : 2 [468/850 (96%)]\tLoss: 1.246867\t Accuracy:41.782%\n",
            "Epoch : 3 [468/850 (96%)]\tLoss: 1.052723\t Accuracy:58.218%\n",
            "Epoch : 4 [468/850 (96%)]\tLoss: 0.596634\t Accuracy:67.708%\n",
            "Test accuracy:0.863% \n",
            "model_57 is saved\n",
            "for model : 58\n",
            "Epoch : 0 [468/850 (96%)]\tLoss: 2.187511\t Accuracy:12.269%\n",
            "Epoch : 1 [468/850 (96%)]\tLoss: 1.698500\t Accuracy:28.125%\n",
            "Epoch : 2 [468/850 (96%)]\tLoss: 1.027527\t Accuracy:55.787%\n",
            "Epoch : 3 [468/850 (96%)]\tLoss: 0.575755\t Accuracy:71.065%\n",
            "Epoch : 4 [468/850 (96%)]\tLoss: 0.547962\t Accuracy:81.250%\n",
            "Test accuracy:0.912% \n",
            "model_58 is saved\n",
            "for model : 59\n",
            "Epoch : 0 [468/850 (96%)]\tLoss: 2.281981\t Accuracy:13.657%\n",
            "Epoch : 1 [468/850 (96%)]\tLoss: 1.345606\t Accuracy:32.870%\n",
            "Epoch : 2 [468/850 (96%)]\tLoss: 1.514487\t Accuracy:56.944%\n",
            "Epoch : 3 [468/850 (96%)]\tLoss: 1.377800\t Accuracy:72.106%\n",
            "Epoch : 4 [468/850 (96%)]\tLoss: 0.345736\t Accuracy:79.051%\n",
            "Test accuracy:0.850% \n",
            "model_59 is saved\n",
            "for model : 60\n",
            "Epoch : 0 [468/850 (96%)]\tLoss: 2.332375\t Accuracy:15.162%\n",
            "Epoch : 1 [468/850 (96%)]\tLoss: 1.647486\t Accuracy:35.301%\n",
            "Epoch : 2 [468/850 (96%)]\tLoss: 1.169592\t Accuracy:54.514%\n",
            "Epoch : 3 [468/850 (96%)]\tLoss: 1.027758\t Accuracy:65.278%\n",
            "Epoch : 4 [468/850 (96%)]\tLoss: 1.042469\t Accuracy:73.032%\n",
            "Test accuracy:0.831% \n",
            "model_60 is saved\n",
            "for model : 61\n",
            "Epoch : 0 [468/850 (96%)]\tLoss: 2.247174\t Accuracy:14.931%\n",
            "Epoch : 1 [468/850 (96%)]\tLoss: 1.436384\t Accuracy:29.514%\n",
            "Epoch : 2 [468/850 (96%)]\tLoss: 0.799272\t Accuracy:52.662%\n",
            "Epoch : 3 [468/850 (96%)]\tLoss: 0.868142\t Accuracy:67.130%\n",
            "Epoch : 4 [468/850 (96%)]\tLoss: 0.691623\t Accuracy:72.801%\n",
            "Test accuracy:0.850% \n",
            "model_61 is saved\n",
            "for model : 62\n",
            "Epoch : 0 [468/850 (96%)]\tLoss: 2.205190\t Accuracy:12.153%\n",
            "Epoch : 1 [468/850 (96%)]\tLoss: 2.040788\t Accuracy:21.991%\n",
            "Epoch : 2 [468/850 (96%)]\tLoss: 1.935326\t Accuracy:43.403%\n",
            "Epoch : 3 [468/850 (96%)]\tLoss: 0.950294\t Accuracy:60.301%\n",
            "Epoch : 4 [468/850 (96%)]\tLoss: 0.855037\t Accuracy:66.551%\n",
            "Test accuracy:0.787% \n",
            "model_62 is saved\n",
            "for model : 63\n",
            "Epoch : 0 [468/850 (96%)]\tLoss: 2.285832\t Accuracy:13.889%\n",
            "Epoch : 1 [468/850 (96%)]\tLoss: 1.693606\t Accuracy:29.051%\n",
            "Epoch : 2 [468/850 (96%)]\tLoss: 0.894091\t Accuracy:51.273%\n",
            "Epoch : 3 [468/850 (96%)]\tLoss: 0.638510\t Accuracy:68.171%\n",
            "Epoch : 4 [468/850 (96%)]\tLoss: 0.588963\t Accuracy:75.000%\n",
            "Test accuracy:0.812% \n",
            "model_63 is saved\n",
            "for model : 64\n",
            "Epoch : 0 [468/850 (96%)]\tLoss: 2.317199\t Accuracy:9.606%\n",
            "Epoch : 1 [468/850 (96%)]\tLoss: 2.015311\t Accuracy:19.907%\n",
            "Epoch : 2 [468/850 (96%)]\tLoss: 1.559869\t Accuracy:37.731%\n",
            "Epoch : 3 [468/850 (96%)]\tLoss: 1.114894\t Accuracy:51.852%\n",
            "Epoch : 4 [468/850 (96%)]\tLoss: 1.292103\t Accuracy:60.069%\n",
            "Test accuracy:0.719% \n",
            "model_64 is saved\n",
            "for model : 65\n",
            "Epoch : 0 [468/850 (96%)]\tLoss: 2.301901\t Accuracy:12.500%\n",
            "Epoch : 1 [468/850 (96%)]\tLoss: 1.732744\t Accuracy:25.463%\n",
            "Epoch : 2 [468/850 (96%)]\tLoss: 1.292788\t Accuracy:46.759%\n",
            "Epoch : 3 [468/850 (96%)]\tLoss: 1.346637\t Accuracy:65.278%\n",
            "Epoch : 4 [468/850 (96%)]\tLoss: 0.733612\t Accuracy:76.968%\n",
            "Test accuracy:0.806% \n",
            "model_65 is saved\n",
            "for model : 66\n",
            "Epoch : 0 [468/850 (96%)]\tLoss: 2.283340\t Accuracy:15.625%\n",
            "Epoch : 1 [468/850 (96%)]\tLoss: 1.462980\t Accuracy:37.037%\n",
            "Epoch : 2 [468/850 (96%)]\tLoss: 0.580418\t Accuracy:57.755%\n",
            "Epoch : 3 [468/850 (96%)]\tLoss: 0.652789\t Accuracy:65.972%\n",
            "Epoch : 4 [468/850 (96%)]\tLoss: 0.661861\t Accuracy:71.065%\n",
            "Test accuracy:0.863% \n",
            "model_66 is saved\n",
            "for model : 67\n",
            "Epoch : 0 [468/850 (96%)]\tLoss: 1.989176\t Accuracy:13.310%\n",
            "Epoch : 1 [468/850 (96%)]\tLoss: 1.616951\t Accuracy:32.986%\n",
            "Epoch : 2 [468/850 (96%)]\tLoss: 1.144127\t Accuracy:48.495%\n",
            "Epoch : 3 [468/850 (96%)]\tLoss: 0.791930\t Accuracy:65.278%\n",
            "Epoch : 4 [468/850 (96%)]\tLoss: 0.773708\t Accuracy:69.792%\n",
            "Test accuracy:0.838% \n",
            "model_67 is saved\n",
            "for model : 68\n",
            "Epoch : 0 [468/850 (96%)]\tLoss: 2.262866\t Accuracy:11.111%\n",
            "Epoch : 1 [468/850 (96%)]\tLoss: 2.025230\t Accuracy:18.171%\n",
            "Epoch : 2 [468/850 (96%)]\tLoss: 1.855242\t Accuracy:32.755%\n",
            "Epoch : 3 [468/850 (96%)]\tLoss: 0.968926\t Accuracy:51.505%\n",
            "Epoch : 4 [468/850 (96%)]\tLoss: 1.135415\t Accuracy:63.773%\n",
            "Test accuracy:0.750% \n",
            "model_68 is saved\n",
            "for model : 69\n",
            "Epoch : 0 [468/850 (96%)]\tLoss: 2.231135\t Accuracy:11.574%\n",
            "Epoch : 1 [468/850 (96%)]\tLoss: 1.960499\t Accuracy:19.097%\n",
            "Epoch : 2 [468/850 (96%)]\tLoss: 1.414803\t Accuracy:40.046%\n",
            "Epoch : 3 [468/850 (96%)]\tLoss: 1.015204\t Accuracy:58.102%\n",
            "Epoch : 4 [468/850 (96%)]\tLoss: 1.033265\t Accuracy:67.593%\n",
            "Test accuracy:0.856% \n",
            "model_69 is saved\n",
            "for model : 70\n",
            "Epoch : 0 [468/850 (96%)]\tLoss: 2.186372\t Accuracy:11.921%\n",
            "Epoch : 1 [468/850 (96%)]\tLoss: 1.849573\t Accuracy:29.051%\n",
            "Epoch : 2 [468/850 (96%)]\tLoss: 1.464502\t Accuracy:53.588%\n",
            "Epoch : 3 [468/850 (96%)]\tLoss: 1.053113\t Accuracy:66.319%\n",
            "Epoch : 4 [468/850 (96%)]\tLoss: 0.518063\t Accuracy:72.917%\n",
            "Test accuracy:0.787% \n",
            "model_70 is saved\n",
            "for model : 71\n",
            "Epoch : 0 [468/850 (96%)]\tLoss: 2.180442\t Accuracy:14.583%\n",
            "Epoch : 1 [468/850 (96%)]\tLoss: 1.621080\t Accuracy:30.671%\n",
            "Epoch : 2 [468/850 (96%)]\tLoss: 1.381886\t Accuracy:47.338%\n",
            "Epoch : 3 [468/850 (96%)]\tLoss: 0.540017\t Accuracy:62.963%\n",
            "Epoch : 4 [468/850 (96%)]\tLoss: 0.610628\t Accuracy:68.287%\n",
            "Test accuracy:0.800% \n",
            "model_71 is saved\n",
            "for model : 72\n",
            "Epoch : 0 [468/850 (96%)]\tLoss: 2.333636\t Accuracy:11.343%\n",
            "Epoch : 1 [468/850 (96%)]\tLoss: 2.168558\t Accuracy:16.088%\n",
            "Epoch : 2 [468/850 (96%)]\tLoss: 1.815734\t Accuracy:25.000%\n",
            "Epoch : 3 [468/850 (96%)]\tLoss: 1.228199\t Accuracy:40.394%\n",
            "Epoch : 4 [468/850 (96%)]\tLoss: 0.836252\t Accuracy:55.093%\n",
            "Test accuracy:0.675% \n",
            "model_72 is saved\n",
            "for model : 73\n",
            "Epoch : 0 [468/850 (96%)]\tLoss: 2.191015\t Accuracy:12.731%\n",
            "Epoch : 1 [468/850 (96%)]\tLoss: 1.513248\t Accuracy:26.736%\n",
            "Epoch : 2 [468/850 (96%)]\tLoss: 1.342717\t Accuracy:52.083%\n",
            "Epoch : 3 [468/850 (96%)]\tLoss: 1.032568\t Accuracy:61.111%\n",
            "Epoch : 4 [468/850 (96%)]\tLoss: 0.634237\t Accuracy:69.792%\n",
            "Test accuracy:0.781% \n",
            "model_73 is saved\n",
            "for model : 74\n",
            "Epoch : 0 [468/850 (96%)]\tLoss: 2.204205\t Accuracy:10.764%\n",
            "Epoch : 1 [468/850 (96%)]\tLoss: 1.915619\t Accuracy:20.833%\n",
            "Epoch : 2 [468/850 (96%)]\tLoss: 1.155818\t Accuracy:38.657%\n",
            "Epoch : 3 [468/850 (96%)]\tLoss: 0.876934\t Accuracy:49.537%\n",
            "Epoch : 4 [468/850 (96%)]\tLoss: 0.724838\t Accuracy:61.458%\n",
            "Test accuracy:0.731% \n",
            "model_74 is saved\n",
            "for model : 75\n",
            "Epoch : 0 [468/850 (96%)]\tLoss: 2.289847\t Accuracy:12.847%\n",
            "Epoch : 1 [468/850 (96%)]\tLoss: 2.074471\t Accuracy:26.736%\n",
            "Epoch : 2 [468/850 (96%)]\tLoss: 1.425705\t Accuracy:50.000%\n",
            "Epoch : 3 [468/850 (96%)]\tLoss: 1.115492\t Accuracy:66.782%\n",
            "Epoch : 4 [468/850 (96%)]\tLoss: 1.603396\t Accuracy:73.727%\n",
            "Test accuracy:0.812% \n",
            "model_75 is saved\n",
            "for model : 76\n",
            "Epoch : 0 [468/850 (96%)]\tLoss: 2.353866\t Accuracy:8.449%\n",
            "Epoch : 1 [468/850 (96%)]\tLoss: 1.895807\t Accuracy:19.560%\n",
            "Epoch : 2 [468/850 (96%)]\tLoss: 0.946282\t Accuracy:43.866%\n",
            "Epoch : 3 [468/850 (96%)]\tLoss: 0.652575\t Accuracy:60.764%\n",
            "Epoch : 4 [468/850 (96%)]\tLoss: 0.590086\t Accuracy:70.139%\n",
            "Test accuracy:0.806% \n",
            "model_76 is saved\n",
            "for model : 77\n",
            "Epoch : 0 [468/850 (96%)]\tLoss: 2.179710\t Accuracy:11.806%\n",
            "Epoch : 1 [468/850 (96%)]\tLoss: 1.613817\t Accuracy:28.125%\n",
            "Epoch : 2 [468/850 (96%)]\tLoss: 1.401002\t Accuracy:53.704%\n",
            "Epoch : 3 [468/850 (96%)]\tLoss: 0.978985\t Accuracy:69.213%\n",
            "Epoch : 4 [468/850 (96%)]\tLoss: 0.776837\t Accuracy:74.421%\n",
            "Test accuracy:0.887% \n",
            "model_77 is saved\n",
            "for model : 78\n",
            "Epoch : 0 [468/850 (96%)]\tLoss: 2.273526\t Accuracy:12.731%\n",
            "Epoch : 1 [468/850 (96%)]\tLoss: 1.650801\t Accuracy:32.755%\n",
            "Epoch : 2 [468/850 (96%)]\tLoss: 1.369666\t Accuracy:55.208%\n",
            "Epoch : 3 [468/850 (96%)]\tLoss: 0.818100\t Accuracy:67.361%\n",
            "Epoch : 4 [468/850 (96%)]\tLoss: 1.345145\t Accuracy:72.917%\n",
            "Test accuracy:0.875% \n",
            "model_78 is saved\n",
            "for model : 79\n",
            "Epoch : 0 [468/850 (96%)]\tLoss: 2.180973\t Accuracy:12.153%\n",
            "Epoch : 1 [468/850 (96%)]\tLoss: 1.299000\t Accuracy:27.894%\n",
            "Epoch : 2 [468/850 (96%)]\tLoss: 1.328886\t Accuracy:51.505%\n",
            "Epoch : 3 [468/850 (96%)]\tLoss: 0.425270\t Accuracy:66.551%\n",
            "Epoch : 4 [468/850 (96%)]\tLoss: 0.792422\t Accuracy:74.190%\n",
            "Test accuracy:0.850% \n",
            "model_79 is saved\n",
            "for model : 80\n",
            "Epoch : 0 [468/850 (96%)]\tLoss: 2.321522\t Accuracy:11.806%\n",
            "Epoch : 1 [468/850 (96%)]\tLoss: 2.042146\t Accuracy:19.097%\n",
            "Epoch : 2 [468/850 (96%)]\tLoss: 1.450081\t Accuracy:31.944%\n",
            "Epoch : 3 [468/850 (96%)]\tLoss: 1.255490\t Accuracy:51.273%\n",
            "Epoch : 4 [468/850 (96%)]\tLoss: 1.120042\t Accuracy:59.144%\n",
            "Test accuracy:0.744% \n",
            "model_80 is saved\n",
            "for model : 81\n",
            "Epoch : 0 [468/850 (96%)]\tLoss: 2.283650\t Accuracy:13.657%\n",
            "Epoch : 1 [468/850 (96%)]\tLoss: 1.898449\t Accuracy:24.421%\n",
            "Epoch : 2 [468/850 (96%)]\tLoss: 1.317503\t Accuracy:54.167%\n",
            "Epoch : 3 [468/850 (96%)]\tLoss: 1.330065\t Accuracy:66.204%\n",
            "Epoch : 4 [468/850 (96%)]\tLoss: 0.949358\t Accuracy:76.736%\n",
            "Test accuracy:0.800% \n",
            "model_81 is saved\n",
            "for model : 82\n",
            "Epoch : 0 [468/850 (96%)]\tLoss: 2.251465\t Accuracy:12.847%\n",
            "Epoch : 1 [468/850 (96%)]\tLoss: 1.674992\t Accuracy:25.000%\n",
            "Epoch : 2 [468/850 (96%)]\tLoss: 1.587756\t Accuracy:48.495%\n",
            "Epoch : 3 [468/850 (96%)]\tLoss: 1.464070\t Accuracy:64.815%\n",
            "Epoch : 4 [468/850 (96%)]\tLoss: 0.843540\t Accuracy:71.644%\n",
            "Test accuracy:0.825% \n",
            "model_82 is saved\n",
            "for model : 83\n",
            "Epoch : 0 [468/850 (96%)]\tLoss: 1.872867\t Accuracy:19.560%\n",
            "Epoch : 1 [468/850 (96%)]\tLoss: 1.216916\t Accuracy:38.426%\n",
            "Epoch : 2 [468/850 (96%)]\tLoss: 1.255263\t Accuracy:60.532%\n",
            "Epoch : 3 [468/850 (96%)]\tLoss: 0.727918\t Accuracy:72.222%\n",
            "Epoch : 4 [468/850 (96%)]\tLoss: 0.412208\t Accuracy:76.042%\n",
            "Test accuracy:0.900% \n",
            "model_83 is saved\n",
            "for model : 84\n",
            "Epoch : 0 [468/850 (96%)]\tLoss: 2.290145\t Accuracy:14.236%\n",
            "Epoch : 1 [468/850 (96%)]\tLoss: 1.859116\t Accuracy:21.759%\n",
            "Epoch : 2 [468/850 (96%)]\tLoss: 1.408827\t Accuracy:45.370%\n",
            "Epoch : 3 [468/850 (96%)]\tLoss: 0.728428\t Accuracy:60.880%\n",
            "Epoch : 4 [468/850 (96%)]\tLoss: 0.876786\t Accuracy:69.213%\n",
            "Test accuracy:0.794% \n",
            "model_84 is saved\n",
            "for model : 85\n",
            "Epoch : 0 [468/850 (96%)]\tLoss: 2.099190\t Accuracy:11.574%\n",
            "Epoch : 1 [468/850 (96%)]\tLoss: 1.629951\t Accuracy:27.662%\n",
            "Epoch : 2 [468/850 (96%)]\tLoss: 1.001818\t Accuracy:47.454%\n",
            "Epoch : 3 [468/850 (96%)]\tLoss: 0.782886\t Accuracy:62.731%\n",
            "Epoch : 4 [468/850 (96%)]\tLoss: 0.531995\t Accuracy:68.750%\n",
            "Test accuracy:0.819% \n",
            "model_85 is saved\n",
            "for model : 86\n",
            "Epoch : 0 [468/850 (96%)]\tLoss: 2.037654\t Accuracy:11.806%\n",
            "Epoch : 1 [468/850 (96%)]\tLoss: 1.657717\t Accuracy:30.787%\n",
            "Epoch : 2 [468/850 (96%)]\tLoss: 1.193973\t Accuracy:51.620%\n",
            "Epoch : 3 [468/850 (96%)]\tLoss: 0.872491\t Accuracy:61.458%\n",
            "Epoch : 4 [468/850 (96%)]\tLoss: 0.833899\t Accuracy:68.634%\n",
            "Test accuracy:0.800% \n",
            "model_86 is saved\n",
            "for model : 87\n",
            "Epoch : 0 [468/850 (96%)]\tLoss: 2.066536\t Accuracy:16.088%\n",
            "Epoch : 1 [468/850 (96%)]\tLoss: 1.510001\t Accuracy:39.120%\n",
            "Epoch : 2 [468/850 (96%)]\tLoss: 0.971667\t Accuracy:64.468%\n",
            "Epoch : 3 [468/850 (96%)]\tLoss: 0.622010\t Accuracy:70.718%\n",
            "Epoch : 4 [468/850 (96%)]\tLoss: 0.570347\t Accuracy:78.472%\n",
            "Test accuracy:0.838% \n",
            "model_87 is saved\n",
            "for model : 88\n",
            "Epoch : 0 [468/850 (96%)]\tLoss: 2.241357\t Accuracy:11.111%\n",
            "Epoch : 1 [468/850 (96%)]\tLoss: 1.622170\t Accuracy:24.537%\n",
            "Epoch : 2 [468/850 (96%)]\tLoss: 1.372045\t Accuracy:37.153%\n",
            "Epoch : 3 [468/850 (96%)]\tLoss: 0.829523\t Accuracy:52.199%\n",
            "Epoch : 4 [468/850 (96%)]\tLoss: 0.888139\t Accuracy:62.963%\n",
            "Test accuracy:0.825% \n",
            "model_88 is saved\n",
            "for model : 89\n",
            "Epoch : 0 [468/850 (96%)]\tLoss: 2.156962\t Accuracy:12.037%\n",
            "Epoch : 1 [468/850 (96%)]\tLoss: 2.025132\t Accuracy:22.917%\n",
            "Epoch : 2 [468/850 (96%)]\tLoss: 1.026498\t Accuracy:48.032%\n",
            "Epoch : 3 [468/850 (96%)]\tLoss: 0.776323\t Accuracy:63.889%\n",
            "Epoch : 4 [468/850 (96%)]\tLoss: 0.772857\t Accuracy:69.792%\n",
            "Test accuracy:0.844% \n",
            "model_89 is saved\n",
            "for model : 90\n",
            "Epoch : 0 [468/850 (96%)]\tLoss: 2.263075\t Accuracy:11.458%\n",
            "Epoch : 1 [468/850 (96%)]\tLoss: 1.891417\t Accuracy:20.718%\n",
            "Epoch : 2 [468/850 (96%)]\tLoss: 1.176540\t Accuracy:46.412%\n",
            "Epoch : 3 [468/850 (96%)]\tLoss: 1.030677\t Accuracy:57.639%\n",
            "Epoch : 4 [468/850 (96%)]\tLoss: 0.563344\t Accuracy:67.824%\n",
            "Test accuracy:0.844% \n",
            "model_90 is saved\n",
            "for model : 91\n",
            "Epoch : 0 [468/850 (96%)]\tLoss: 2.214162\t Accuracy:11.574%\n",
            "Epoch : 1 [468/850 (96%)]\tLoss: 1.988115\t Accuracy:24.306%\n",
            "Epoch : 2 [468/850 (96%)]\tLoss: 1.527339\t Accuracy:45.255%\n",
            "Epoch : 3 [468/850 (96%)]\tLoss: 0.985495\t Accuracy:64.699%\n",
            "Epoch : 4 [468/850 (96%)]\tLoss: 0.381441\t Accuracy:69.213%\n",
            "Test accuracy:0.838% \n",
            "model_91 is saved\n",
            "for model : 92\n",
            "Epoch : 0 [468/850 (96%)]\tLoss: 2.203373\t Accuracy:12.384%\n",
            "Epoch : 1 [468/850 (96%)]\tLoss: 1.878562\t Accuracy:17.708%\n",
            "Epoch : 2 [468/850 (96%)]\tLoss: 0.905286\t Accuracy:40.856%\n",
            "Epoch : 3 [468/850 (96%)]\tLoss: 0.627068\t Accuracy:56.597%\n",
            "Epoch : 4 [468/850 (96%)]\tLoss: 0.784742\t Accuracy:62.963%\n",
            "Test accuracy:0.750% \n",
            "model_92 is saved\n",
            "for model : 93\n",
            "Epoch : 0 [468/850 (96%)]\tLoss: 2.011779\t Accuracy:18.171%\n",
            "Epoch : 1 [468/850 (96%)]\tLoss: 1.462115\t Accuracy:31.481%\n",
            "Epoch : 2 [468/850 (96%)]\tLoss: 1.003757\t Accuracy:49.421%\n",
            "Epoch : 3 [468/850 (96%)]\tLoss: 0.864985\t Accuracy:58.681%\n",
            "Epoch : 4 [468/850 (96%)]\tLoss: 0.747109\t Accuracy:68.981%\n",
            "Test accuracy:0.750% \n",
            "model_93 is saved\n",
            "for model : 94\n",
            "Epoch : 0 [468/850 (96%)]\tLoss: 2.286781\t Accuracy:12.963%\n",
            "Epoch : 1 [468/850 (96%)]\tLoss: 1.813479\t Accuracy:30.671%\n",
            "Epoch : 2 [468/850 (96%)]\tLoss: 1.117037\t Accuracy:50.116%\n",
            "Epoch : 3 [468/850 (96%)]\tLoss: 0.905120\t Accuracy:63.426%\n",
            "Epoch : 4 [468/850 (96%)]\tLoss: 0.672397\t Accuracy:74.421%\n",
            "Test accuracy:0.819% \n",
            "model_94 is saved\n",
            "for model : 95\n",
            "Epoch : 0 [468/850 (96%)]\tLoss: 2.267410\t Accuracy:10.880%\n",
            "Epoch : 1 [468/850 (96%)]\tLoss: 2.165316\t Accuracy:16.551%\n",
            "Epoch : 2 [468/850 (96%)]\tLoss: 1.676835\t Accuracy:31.134%\n",
            "Epoch : 3 [468/850 (96%)]\tLoss: 0.835692\t Accuracy:48.148%\n",
            "Epoch : 4 [468/850 (96%)]\tLoss: 0.785274\t Accuracy:61.343%\n",
            "Test accuracy:0.769% \n",
            "model_95 is saved\n",
            "for model : 96\n",
            "Epoch : 0 [468/850 (96%)]\tLoss: 2.319555\t Accuracy:12.731%\n",
            "Epoch : 1 [468/850 (96%)]\tLoss: 2.370263\t Accuracy:25.231%\n",
            "Epoch : 2 [468/850 (96%)]\tLoss: 1.456668\t Accuracy:49.653%\n",
            "Epoch : 3 [468/850 (96%)]\tLoss: 0.604939\t Accuracy:65.394%\n",
            "Epoch : 4 [468/850 (96%)]\tLoss: 0.583892\t Accuracy:73.611%\n",
            "Test accuracy:0.831% \n",
            "model_96 is saved\n",
            "for model : 97\n",
            "Epoch : 0 [468/850 (96%)]\tLoss: 2.006165\t Accuracy:14.352%\n",
            "Epoch : 1 [468/850 (96%)]\tLoss: 1.585353\t Accuracy:34.838%\n",
            "Epoch : 2 [468/850 (96%)]\tLoss: 0.667419\t Accuracy:60.532%\n",
            "Epoch : 3 [468/850 (96%)]\tLoss: 0.647471\t Accuracy:71.412%\n",
            "Epoch : 4 [468/850 (96%)]\tLoss: 0.635960\t Accuracy:71.875%\n",
            "Test accuracy:0.863% \n",
            "model_97 is saved\n",
            "for model : 98\n",
            "Epoch : 0 [468/850 (96%)]\tLoss: 2.291805\t Accuracy:11.458%\n",
            "Epoch : 1 [468/850 (96%)]\tLoss: 1.911354\t Accuracy:29.861%\n",
            "Epoch : 2 [468/850 (96%)]\tLoss: 1.348966\t Accuracy:52.546%\n",
            "Epoch : 3 [468/850 (96%)]\tLoss: 1.047110\t Accuracy:65.741%\n",
            "Epoch : 4 [468/850 (96%)]\tLoss: 0.553510\t Accuracy:73.148%\n",
            "Test accuracy:0.794% \n",
            "model_98 is saved\n",
            "for model : 99\n",
            "Epoch : 0 [468/850 (96%)]\tLoss: 2.334163\t Accuracy:10.301%\n",
            "Epoch : 1 [468/850 (96%)]\tLoss: 1.786637\t Accuracy:24.884%\n",
            "Epoch : 2 [468/850 (96%)]\tLoss: 1.396911\t Accuracy:50.463%\n",
            "Epoch : 3 [468/850 (96%)]\tLoss: 0.742967\t Accuracy:67.014%\n",
            "Epoch : 4 [468/850 (96%)]\tLoss: 0.796358\t Accuracy:74.653%\n",
            "Test accuracy:0.819% \n",
            "model_99 is saved\n",
            "for model : 100\n",
            "Epoch : 0 [468/850 (96%)]\tLoss: 2.301841\t Accuracy:11.921%\n",
            "Epoch : 1 [468/850 (96%)]\tLoss: 1.810088\t Accuracy:20.602%\n",
            "Epoch : 2 [468/850 (96%)]\tLoss: 1.097969\t Accuracy:40.972%\n",
            "Epoch : 3 [468/850 (96%)]\tLoss: 0.684811\t Accuracy:61.921%\n",
            "Epoch : 4 [468/850 (96%)]\tLoss: 0.941829\t Accuracy:74.190%\n",
            "Test accuracy:0.812% \n",
            "model_100 is saved\n",
            "for model : 101\n",
            "Epoch : 0 [468/850 (96%)]\tLoss: 2.078052\t Accuracy:13.079%\n",
            "Epoch : 1 [468/850 (96%)]\tLoss: 1.720149\t Accuracy:34.491%\n",
            "Epoch : 2 [468/850 (96%)]\tLoss: 1.159418\t Accuracy:53.125%\n",
            "Epoch : 3 [468/850 (96%)]\tLoss: 0.752318\t Accuracy:62.963%\n",
            "Epoch : 4 [468/850 (96%)]\tLoss: 0.581463\t Accuracy:70.949%\n",
            "Test accuracy:0.838% \n",
            "model_101 is saved\n",
            "for model : 102\n",
            "Epoch : 0 [468/850 (96%)]\tLoss: 2.318448\t Accuracy:11.921%\n",
            "Epoch : 1 [468/850 (96%)]\tLoss: 2.252336\t Accuracy:21.181%\n",
            "Epoch : 2 [468/850 (96%)]\tLoss: 1.471978\t Accuracy:40.509%\n",
            "Epoch : 3 [468/850 (96%)]\tLoss: 1.446993\t Accuracy:52.083%\n",
            "Epoch : 4 [468/850 (96%)]\tLoss: 1.002421\t Accuracy:61.111%\n",
            "Test accuracy:0.756% \n",
            "model_102 is saved\n",
            "for model : 103\n",
            "Epoch : 0 [468/850 (96%)]\tLoss: 1.948190\t Accuracy:14.352%\n",
            "Epoch : 1 [468/850 (96%)]\tLoss: 1.838347\t Accuracy:28.472%\n",
            "Epoch : 2 [468/850 (96%)]\tLoss: 1.495548\t Accuracy:52.431%\n",
            "Epoch : 3 [468/850 (96%)]\tLoss: 0.689435\t Accuracy:66.319%\n",
            "Epoch : 4 [468/850 (96%)]\tLoss: 0.368778\t Accuracy:74.769%\n",
            "Test accuracy:0.781% \n",
            "model_103 is saved\n",
            "for model : 104\n",
            "Epoch : 0 [468/850 (96%)]\tLoss: 2.237315\t Accuracy:13.657%\n",
            "Epoch : 1 [468/850 (96%)]\tLoss: 1.674985\t Accuracy:26.157%\n",
            "Epoch : 2 [468/850 (96%)]\tLoss: 1.738592\t Accuracy:51.736%\n",
            "Epoch : 3 [468/850 (96%)]\tLoss: 0.963947\t Accuracy:66.667%\n",
            "Epoch : 4 [468/850 (96%)]\tLoss: 1.043357\t Accuracy:73.495%\n",
            "Test accuracy:0.850% \n",
            "model_104 is saved\n",
            "for model : 105\n",
            "Epoch : 0 [468/850 (96%)]\tLoss: 2.234590\t Accuracy:11.690%\n",
            "Epoch : 1 [468/850 (96%)]\tLoss: 1.952074\t Accuracy:24.306%\n",
            "Epoch : 2 [468/850 (96%)]\tLoss: 1.508153\t Accuracy:39.583%\n",
            "Epoch : 3 [468/850 (96%)]\tLoss: 1.469186\t Accuracy:51.736%\n",
            "Epoch : 4 [468/850 (96%)]\tLoss: 0.954722\t Accuracy:64.352%\n",
            "Test accuracy:0.750% \n",
            "model_105 is saved\n",
            "for model : 106\n",
            "Epoch : 0 [468/850 (96%)]\tLoss: 2.297370\t Accuracy:13.079%\n",
            "Epoch : 1 [468/850 (96%)]\tLoss: 2.170666\t Accuracy:23.611%\n",
            "Epoch : 2 [468/850 (96%)]\tLoss: 1.478439\t Accuracy:45.833%\n",
            "Epoch : 3 [468/850 (96%)]\tLoss: 1.372084\t Accuracy:57.755%\n",
            "Epoch : 4 [468/850 (96%)]\tLoss: 0.653811\t Accuracy:67.014%\n",
            "Test accuracy:0.800% \n",
            "model_106 is saved\n",
            "for model : 107\n",
            "Epoch : 0 [468/850 (96%)]\tLoss: 2.286120\t Accuracy:13.310%\n",
            "Epoch : 1 [468/850 (96%)]\tLoss: 1.922822\t Accuracy:21.991%\n",
            "Epoch : 2 [468/850 (96%)]\tLoss: 1.251273\t Accuracy:38.426%\n",
            "Epoch : 3 [468/850 (96%)]\tLoss: 1.178538\t Accuracy:53.009%\n",
            "Epoch : 4 [468/850 (96%)]\tLoss: 0.877960\t Accuracy:65.856%\n",
            "Test accuracy:0.800% \n",
            "model_107 is saved\n",
            "for model : 108\n",
            "Epoch : 0 [468/850 (96%)]\tLoss: 2.251273\t Accuracy:11.806%\n",
            "Epoch : 1 [468/850 (96%)]\tLoss: 1.882468\t Accuracy:20.833%\n",
            "Epoch : 2 [468/850 (96%)]\tLoss: 1.225239\t Accuracy:43.403%\n",
            "Epoch : 3 [468/850 (96%)]\tLoss: 1.045885\t Accuracy:61.574%\n",
            "Epoch : 4 [468/850 (96%)]\tLoss: 0.330479\t Accuracy:71.991%\n",
            "Test accuracy:0.844% \n",
            "model_108 is saved\n",
            "for model : 109\n",
            "Epoch : 0 [468/850 (96%)]\tLoss: 2.295572\t Accuracy:9.838%\n",
            "Epoch : 1 [468/850 (96%)]\tLoss: 1.808371\t Accuracy:19.907%\n",
            "Epoch : 2 [468/850 (96%)]\tLoss: 1.129295\t Accuracy:37.384%\n",
            "Epoch : 3 [468/850 (96%)]\tLoss: 0.979051\t Accuracy:49.074%\n",
            "Epoch : 4 [468/850 (96%)]\tLoss: 0.769722\t Accuracy:59.028%\n",
            "Test accuracy:0.700% \n",
            "model_109 is saved\n",
            "for model : 110\n",
            "Epoch : 0 [468/850 (96%)]\tLoss: 2.248893\t Accuracy:11.458%\n",
            "Epoch : 1 [468/850 (96%)]\tLoss: 1.933093\t Accuracy:23.148%\n",
            "Epoch : 2 [468/850 (96%)]\tLoss: 1.390661\t Accuracy:48.727%\n",
            "Epoch : 3 [468/850 (96%)]\tLoss: 1.306020\t Accuracy:64.352%\n",
            "Epoch : 4 [468/850 (96%)]\tLoss: 0.929627\t Accuracy:71.528%\n",
            "Test accuracy:0.756% \n",
            "model_110 is saved\n",
            "for model : 111\n",
            "Epoch : 0 [468/850 (96%)]\tLoss: 2.217323\t Accuracy:12.616%\n",
            "Epoch : 1 [468/850 (96%)]\tLoss: 1.630816\t Accuracy:27.431%\n",
            "Epoch : 2 [468/850 (96%)]\tLoss: 1.482663\t Accuracy:46.065%\n",
            "Epoch : 3 [468/850 (96%)]\tLoss: 0.605911\t Accuracy:59.375%\n",
            "Epoch : 4 [468/850 (96%)]\tLoss: 0.824422\t Accuracy:71.412%\n",
            "Test accuracy:0.838% \n",
            "model_111 is saved\n",
            "for model : 112\n",
            "Epoch : 0 [468/850 (96%)]\tLoss: 2.382478\t Accuracy:15.162%\n",
            "Epoch : 1 [468/850 (96%)]\tLoss: 1.556001\t Accuracy:36.574%\n",
            "Epoch : 2 [468/850 (96%)]\tLoss: 1.077012\t Accuracy:58.565%\n",
            "Epoch : 3 [468/850 (96%)]\tLoss: 0.550609\t Accuracy:68.634%\n",
            "Epoch : 4 [468/850 (96%)]\tLoss: 0.948796\t Accuracy:73.727%\n",
            "Test accuracy:0.831% \n",
            "model_112 is saved\n",
            "for model : 113\n",
            "Epoch : 0 [468/850 (96%)]\tLoss: 2.149748\t Accuracy:13.773%\n",
            "Epoch : 1 [468/850 (96%)]\tLoss: 1.570648\t Accuracy:26.505%\n",
            "Epoch : 2 [468/850 (96%)]\tLoss: 0.885456\t Accuracy:51.852%\n",
            "Epoch : 3 [468/850 (96%)]\tLoss: 0.449084\t Accuracy:66.319%\n",
            "Epoch : 4 [468/850 (96%)]\tLoss: 0.503081\t Accuracy:71.991%\n",
            "Test accuracy:0.863% \n",
            "model_113 is saved\n",
            "for model : 114\n",
            "Epoch : 0 [468/850 (96%)]\tLoss: 2.186615\t Accuracy:11.458%\n",
            "Epoch : 1 [468/850 (96%)]\tLoss: 1.597823\t Accuracy:31.019%\n",
            "Epoch : 2 [468/850 (96%)]\tLoss: 0.719950\t Accuracy:53.009%\n",
            "Epoch : 3 [468/850 (96%)]\tLoss: 0.564471\t Accuracy:65.509%\n",
            "Epoch : 4 [468/850 (96%)]\tLoss: 0.498808\t Accuracy:75.000%\n",
            "Test accuracy:0.844% \n",
            "model_114 is saved\n",
            "for model : 115\n",
            "Epoch : 0 [468/850 (96%)]\tLoss: 2.278390\t Accuracy:12.269%\n",
            "Epoch : 1 [468/850 (96%)]\tLoss: 1.905341\t Accuracy:22.685%\n",
            "Epoch : 2 [468/850 (96%)]\tLoss: 1.699965\t Accuracy:48.264%\n",
            "Epoch : 3 [468/850 (96%)]\tLoss: 1.024130\t Accuracy:66.898%\n",
            "Epoch : 4 [468/850 (96%)]\tLoss: 0.697828\t Accuracy:73.032%\n",
            "Test accuracy:0.850% \n",
            "model_115 is saved\n",
            "for model : 116\n",
            "Epoch : 0 [468/850 (96%)]\tLoss: 2.036443\t Accuracy:15.741%\n",
            "Epoch : 1 [468/850 (96%)]\tLoss: 1.404880\t Accuracy:33.681%\n",
            "Epoch : 2 [468/850 (96%)]\tLoss: 1.036776\t Accuracy:54.630%\n",
            "Epoch : 3 [468/850 (96%)]\tLoss: 0.508938\t Accuracy:70.370%\n",
            "Epoch : 4 [468/850 (96%)]\tLoss: 0.516711\t Accuracy:75.231%\n",
            "Test accuracy:0.838% \n",
            "model_116 is saved\n",
            "for model : 117\n",
            "Epoch : 0 [468/850 (96%)]\tLoss: 2.298495\t Accuracy:13.773%\n",
            "Epoch : 1 [468/850 (96%)]\tLoss: 1.806002\t Accuracy:29.861%\n",
            "Epoch : 2 [468/850 (96%)]\tLoss: 1.257670\t Accuracy:54.282%\n",
            "Epoch : 3 [468/850 (96%)]\tLoss: 1.117110\t Accuracy:63.310%\n",
            "Epoch : 4 [468/850 (96%)]\tLoss: 0.878319\t Accuracy:70.139%\n",
            "Test accuracy:0.812% \n",
            "model_117 is saved\n",
            "for model : 118\n",
            "Epoch : 0 [468/850 (96%)]\tLoss: 2.280425\t Accuracy:9.375%\n",
            "Epoch : 1 [468/850 (96%)]\tLoss: 1.708229\t Accuracy:21.528%\n",
            "Epoch : 2 [468/850 (96%)]\tLoss: 0.964654\t Accuracy:49.190%\n",
            "Epoch : 3 [468/850 (96%)]\tLoss: 0.728365\t Accuracy:63.773%\n",
            "Epoch : 4 [468/850 (96%)]\tLoss: 1.071937\t Accuracy:72.917%\n",
            "Test accuracy:0.806% \n",
            "model_118 is saved\n"
          ],
          "name": "stdout"
        }
      ]
    },
    {
      "cell_type": "markdown",
      "metadata": {
        "id": "ij4iLtpkwUx9",
        "colab_type": "text"
      },
      "source": [
        "#Generate Labels for Target Dataset using 11 trained Models\n"
      ]
    },
    {
      "cell_type": "code",
      "metadata": {
        "id": "vTsk2JM1Jv_c",
        "colab_type": "code",
        "colab": {}
      },
      "source": [
        "model_list=[]\n",
        "for i in range(119):\n",
        "  model_list.append(torch.load('drive/My Drive/Colab Notebooks/SecureAndPrivateAI/DiffrentialPrivacyProject/11Models/checkpoint_model_'+str(i)+'.pth'))\n",
        "  "
      ],
      "execution_count": 0,
      "outputs": []
    },
    {
      "cell_type": "code",
      "metadata": {
        "id": "8GLyjbio2iYk",
        "colab_type": "code",
        "outputId": "2f95e4e6-8900-4d13-d5e0-a5b536d2983e",
        "colab": {
          "base_uri": "https://localhost:8080/",
          "height": 34
        }
      },
      "source": [
        "print(len(model_list))"
      ],
      "execution_count": 17,
      "outputs": [
        {
          "output_type": "stream",
          "text": [
            "119\n"
          ],
          "name": "stdout"
        }
      ]
    },
    {
      "cell_type": "code",
      "metadata": {
        "id": "nlXyht4Mtzag",
        "colab_type": "code",
        "colab": {
          "base_uri": "https://localhost:8080/",
          "height": 136
        },
        "outputId": "e1039c9b-d707-4e72-9a46-a67005e42b83"
      },
      "source": [
        "print(model_list[0])"
      ],
      "execution_count": 18,
      "outputs": [
        {
          "output_type": "stream",
          "text": [
            "CNN(\n",
            "  (conv1): Conv2d(1, 32, kernel_size=(5, 5), stride=(1, 1))\n",
            "  (conv2): Conv2d(32, 32, kernel_size=(5, 5), stride=(1, 1))\n",
            "  (conv3): Conv2d(32, 64, kernel_size=(5, 5), stride=(1, 1))\n",
            "  (fc1): Linear(in_features=576, out_features=256, bias=True)\n",
            "  (fc2): Linear(in_features=256, out_features=10, bias=True)\n",
            ")\n"
          ],
          "name": "stdout"
        }
      ]
    },
    {
      "cell_type": "code",
      "metadata": {
        "id": "jmMjxOX2aSTM",
        "colab_type": "code",
        "colab": {}
      },
      "source": [
        "def view_classify(img, ps, version=\"MNIST\"):\n",
        "    ''' Function for viewing an image and it's predicted classes.\n",
        "    '''\n",
        "    ps = ps.data.numpy().squeeze()\n",
        "\n",
        "    fig, (ax1, ax2) = plt.subplots(figsize=(6,9), ncols=2)\n",
        "    ax1.imshow(img.resize_(1, 28, 28).numpy().squeeze())\n",
        "    ax1.axis('off')\n",
        "    ax2.barh(np.arange(10), ps)\n",
        "    ax2.set_aspect(0.1)\n",
        "    ax2.set_yticks(np.arange(10))\n",
        "    if version == \"MNIST\":\n",
        "        ax2.set_yticklabels(np.arange(10))\n",
        "    elif version == \"Fashion\":\n",
        "        ax2.set_yticklabels(['T-shirt/top',\n",
        "                            'Trouser',\n",
        "                            'Pullover',\n",
        "                            'Dress',\n",
        "                            'Coat',\n",
        "                            'Sandal',\n",
        "                            'Shirt',\n",
        "                            'Sneaker',\n",
        "                            'Bag',\n",
        "                            'Ankle Boot'], size='small');\n",
        "    ax2.set_title('Class Probability')\n",
        "    ax2.set_xlim(0, 1.1)\n",
        "\n",
        "    plt.tight_layout()"
      ],
      "execution_count": 0,
      "outputs": []
    },
    {
      "cell_type": "code",
      "metadata": {
        "id": "v-HQ83O0aUJQ",
        "colab_type": "code",
        "colab": {}
      },
      "source": [
        "model_labels_lists=[]\n",
        "for model in model_list:\n",
        "  labels_list=[]\n",
        "  model.eval()\n",
        "  for img in train_datasets[-1]:\n",
        "    img=img.to(device)\n",
        "    img=img.view(1,1,28,28).float()\n",
        "    # Calculate the class probabilities (softmax) for img\n",
        "    with torch.no_grad():\n",
        "        output = model.forward(img)\n",
        "#         ps=torch.exp(output)\n",
        "#         view_classify(img.view(1,28,28).cpu(), ps.cpu(), version=\"MNIST\")\n",
        "    labels_list.append(torch.max(output,1)[1])\n",
        "  model_labels_lists.append(labels_list)"
      ],
      "execution_count": 0,
      "outputs": []
    },
    {
      "cell_type": "code",
      "metadata": {
        "id": "QQRmUNuLAGtg",
        "colab_type": "code",
        "colab": {}
      },
      "source": [
        "label_list=[]\n",
        "for i in range(1000):\n",
        "  sub_list=[]\n",
        "  for j in range(119):\n",
        "    sub_list.append(model_labels_lists[j][i])\n",
        "  label_list.append(sub_list)"
      ],
      "execution_count": 0,
      "outputs": []
    },
    {
      "cell_type": "code",
      "metadata": {
        "id": "k8KbDZm9KTAU",
        "colab_type": "code",
        "colab": {
          "base_uri": "https://localhost:8080/",
          "height": 34
        },
        "outputId": "79241e30-300d-49b5-a307-f3014150874a"
      },
      "source": [
        "print(len(label_list))\n",
        "# test_labels=[]\n",
        "# for i in test_targets[50000:60000]:\n",
        "#   sub_list=[]\n",
        "#   sub_list.append(i)\n",
        "#   test_labels.append(sub_list)"
      ],
      "execution_count": 24,
      "outputs": [
        {
          "output_type": "stream",
          "text": [
            "119\n"
          ],
          "name": "stdout"
        }
      ]
    },
    {
      "cell_type": "markdown",
      "metadata": {
        "id": "_8tHfbLkCdGP",
        "colab_type": "text"
      },
      "source": [
        "#PATE Analysis"
      ]
    },
    {
      "cell_type": "code",
      "metadata": {
        "id": "YEJbWU5xA2hV",
        "colab_type": "code",
        "colab": {}
      },
      "source": [
        "new_labels = list()\n",
        "for an_image in label_list:\n",
        "\n",
        "    label_counts = np.bincount(an_image, minlength=10)\n",
        "\n",
        "    epsilon = 0.1\n",
        "    beta = 1 / epsilon\n",
        "\n",
        "    for i in range(len(label_counts)):\n",
        "        label_counts[i] += np.random.laplace(0, beta, 1)\n",
        "\n",
        "    new_label = np.argmax(label_counts)\n",
        "    \n",
        "    new_labels.append(new_label)"
      ],
      "execution_count": 0,
      "outputs": []
    },
    {
      "cell_type": "code",
      "metadata": {
        "id": "cO_02egOCmub",
        "colab_type": "code",
        "outputId": "bde0bc7a-cb73-4178-9602-f4074441ffed",
        "colab": {
          "base_uri": "https://localhost:8080/",
          "height": 105
        }
      },
      "source": [
        "from syft.frameworks.torch.differential_privacy import pate"
      ],
      "execution_count": 26,
      "outputs": [
        {
          "output_type": "stream",
          "text": [
            "WARNING: Logging before flag parsing goes to stderr.\n",
            "W0709 12:36:50.153824 139738690709376 secure_random.py:26] Falling back to insecure randomness since the required custom op could not be found for the installed version of TensorFlow. Fix this by compiling custom ops. Missing file was '/usr/local/lib/python3.6/dist-packages/tf_encrypted/operations/secure_random/secure_random_module_tf_1.14.0.so'\n",
            "W0709 12:36:50.171946 139738690709376 deprecation_wrapper.py:119] From /usr/local/lib/python3.6/dist-packages/tf_encrypted/session.py:26: The name tf.Session is deprecated. Please use tf.compat.v1.Session instead.\n",
            "\n"
          ],
          "name": "stderr"
        }
      ]
    },
    {
      "cell_type": "code",
      "metadata": {
        "id": "7lhP8n5qI27E",
        "colab_type": "code",
        "colab": {}
      },
      "source": [
        "preds=np.asarray(model_labels_lists).astype(int)\n",
        "indices=np.asarray(new_labels).astype(int)"
      ],
      "execution_count": 0,
      "outputs": []
    },
    {
      "cell_type": "code",
      "metadata": {
        "id": "-1mN9TT_5q4i",
        "colab_type": "code",
        "outputId": "04308ddb-7b46-4acf-ddfb-34fb0020b4da",
        "colab": {
          "base_uri": "https://localhost:8080/",
          "height": 136
        }
      },
      "source": [
        "print(preds[:,:10], indices[:10])"
      ],
      "execution_count": 28,
      "outputs": [
        {
          "output_type": "stream",
          "text": [
            "[[6 3 5 ... 2 6 2]\n",
            " [6 2 5 ... 2 6 2]\n",
            " [6 3 5 ... 2 6 2]\n",
            " ...\n",
            " [6 3 5 ... 2 6 2]\n",
            " [6 2 5 ... 2 6 2]\n",
            " [6 2 5 ... 2 6 2]] [6 3 5 7 2 5 9 2 6 2]\n"
          ],
          "name": "stdout"
        }
      ]
    },
    {
      "cell_type": "code",
      "metadata": {
        "id": "QKz98j-vDCNh",
        "colab_type": "code",
        "colab": {
          "base_uri": "https://localhost:8080/",
          "height": 34
        },
        "outputId": "3936ffc3-515e-4a92-85cc-fe3315195cd2"
      },
      "source": [
        "data_dep_eps, data_ind_eps = pate.perform_analysis(teacher_preds=preds, indices=indices, noise_eps=0.1, delta=1e-5)"
      ],
      "execution_count": 29,
      "outputs": [
        {
          "output_type": "stream",
          "text": [
            "Warning: May not have used enough values of l. Increase 'moments' variable and run again.\n"
          ],
          "name": "stdout"
        }
      ]
    },
    {
      "cell_type": "code",
      "metadata": {
        "id": "Sncl55D9NuRW",
        "colab_type": "code",
        "outputId": "cd885979-3e7d-4870-fff5-645f4b172d7f",
        "colab": {
          "base_uri": "https://localhost:8080/",
          "height": 51
        }
      },
      "source": [
        "print(\"Data Independent Epsilon:\", data_ind_eps)\n",
        "print(\"Data Dependent Epsilon:\", data_dep_eps)"
      ],
      "execution_count": 30,
      "outputs": [
        {
          "output_type": "stream",
          "text": [
            "Data Independent Epsilon: 51.51292546497024\n",
            "Data Dependent Epsilon: 3.214316887866704\n"
          ],
          "name": "stdout"
        }
      ]
    },
    {
      "cell_type": "code",
      "metadata": {
        "id": "IMVCzONH5nVp",
        "colab_type": "code",
        "colab": {}
      },
      "source": [
        "num_teachers, num_examples, num_labels = (10, 10000, 10)\n",
        "preds = (np.random.rand(num_teachers, num_examples) * num_labels).astype(int) #fake preds\n",
        "indices = (np.random.rand(num_examples) * num_labels).astype(int) # true answers\n",
        "data_dep_eps, data_ind_eps = pate.perform_analysis(teacher_preds=preds, indices=indices, noise_eps=0.1, delta=1e-5)\n"
      ],
      "execution_count": 0,
      "outputs": []
    },
    {
      "cell_type": "code",
      "metadata": {
        "id": "g0cbyPW0De_O",
        "colab_type": "code",
        "outputId": "f5ca6242-889f-4a45-e727-f0452518efaf",
        "colab": {
          "base_uri": "https://localhost:8080/",
          "height": 187
        }
      },
      "source": [
        "print(preds[:,:10], indices[:10])"
      ],
      "execution_count": 0,
      "outputs": [
        {
          "output_type": "stream",
          "text": [
            "[[9 4 5 0 1 9 2 4 8 6]\n",
            " [9 8 1 6 6 4 1 0 5 5]\n",
            " [1 2 2 5 1 4 4 4 8 9]\n",
            " [3 1 5 4 4 7 4 3 4 3]\n",
            " [0 0 9 6 9 6 6 3 0 3]\n",
            " [8 5 8 0 9 3 2 3 5 4]\n",
            " [1 2 8 7 8 3 5 9 3 6]\n",
            " [8 8 0 3 7 2 1 4 4 8]\n",
            " [3 8 2 6 4 2 2 7 7 0]\n",
            " [9 5 1 3 2 7 4 1 4 7]] [6 9 7 0 3 7 7 0 4 8]\n"
          ],
          "name": "stdout"
        }
      ]
    },
    {
      "cell_type": "code",
      "metadata": {
        "id": "XdrGoh-P6Igv",
        "colab_type": "code",
        "outputId": "def3f3c7-bce2-4fba-8305-8c1ea7ffff36",
        "colab": {
          "base_uri": "https://localhost:8080/",
          "height": 51
        }
      },
      "source": [
        "print(\"Data Independent Epsilon:\", data_ind_eps)\n",
        "print(\"Data Dependent Epsilon:\", data_dep_eps)"
      ],
      "execution_count": 0,
      "outputs": [
        {
          "output_type": "stream",
          "text": [
            "Data Independent Epsilon: 411.5129254649703\n",
            "Data Dependent Epsilon: 411.51292546502725\n"
          ],
          "name": "stdout"
        }
      ]
    },
    {
      "cell_type": "code",
      "metadata": {
        "id": "DhqCl8Q7Dkas",
        "colab_type": "code",
        "outputId": "82512d36-4ef0-4bf7-a4a7-7695923119e4",
        "colab": {
          "base_uri": "https://localhost:8080/",
          "height": 105
        }
      },
      "source": [
        "data_dep_eps, data_ind_eps=pate.perform_analysis_torch(preds, indices, 0.1, 1e-5)\n",
        "print(\"Data Independent Epsilon:\", data_ind_eps)\n",
        "print(\"Data Dependent Epsilon:\", data_dep_eps)"
      ],
      "execution_count": 0,
      "outputs": [
        {
          "output_type": "stream",
          "text": [
            "/usr/local/lib/python3.6/dist-packages/syft/frameworks/torch/differential_privacy/pate.py:353: UserWarning: To copy construct from a tensor, it is recommended to use sourceTensor.clone().detach() or sourceTensor.clone().detach().requires_grad_(True), rather than torch.tensor(sourceTensor).\n",
            "  torch.tensor(counts, dtype=torch.float) - torch.tensor(counts[winner], dtype=torch.float)\n"
          ],
          "name": "stderr"
        },
        {
          "output_type": "stream",
          "text": [
            "Data Independent Epsilon: tensor(411.5129)\n",
            "Data Dependent Epsilon: tensor(411.5247)\n"
          ],
          "name": "stdout"
        }
      ]
    },
    {
      "cell_type": "code",
      "metadata": {
        "id": "FjGqyVBRsIwA",
        "colab_type": "code",
        "outputId": "dc36103b-3072-4e20-9ed0-9ce3c318a5e2",
        "colab": {
          "base_uri": "https://localhost:8080/",
          "height": 197
        }
      },
      "source": [
        "data_dep_eps, data_ind_eps = pate.perform_analysis(preds.numpy(), indices.numpy(), noise_eps=0.1, delta=1e-5)\n",
        "print(\"Data Independent Epsilon:\", data_ind_eps)\n",
        "print(\"Data Dependent Epsilon:\", data_dep_eps)"
      ],
      "execution_count": 0,
      "outputs": [
        {
          "output_type": "error",
          "ename": "AttributeError",
          "evalue": "ignored",
          "traceback": [
            "\u001b[0;31m---------------------------------------------------------------------------\u001b[0m",
            "\u001b[0;31mAttributeError\u001b[0m                            Traceback (most recent call last)",
            "\u001b[0;32m<ipython-input-33-6b6a66553ded>\u001b[0m in \u001b[0;36m<module>\u001b[0;34m()\u001b[0m\n\u001b[0;32m----> 1\u001b[0;31m \u001b[0mdata_dep_eps\u001b[0m\u001b[0;34m,\u001b[0m \u001b[0mdata_ind_eps\u001b[0m \u001b[0;34m=\u001b[0m \u001b[0mpate\u001b[0m\u001b[0;34m.\u001b[0m\u001b[0mperform_analysis\u001b[0m\u001b[0;34m(\u001b[0m\u001b[0mpreds\u001b[0m\u001b[0;34m.\u001b[0m\u001b[0mnumpy\u001b[0m\u001b[0;34m(\u001b[0m\u001b[0;34m)\u001b[0m\u001b[0;34m,\u001b[0m \u001b[0mindices\u001b[0m\u001b[0;34m.\u001b[0m\u001b[0mnumpy\u001b[0m\u001b[0;34m(\u001b[0m\u001b[0;34m)\u001b[0m\u001b[0;34m,\u001b[0m \u001b[0mnoise_eps\u001b[0m\u001b[0;34m=\u001b[0m\u001b[0;36m0.1\u001b[0m\u001b[0;34m,\u001b[0m \u001b[0mdelta\u001b[0m\u001b[0;34m=\u001b[0m\u001b[0;36m1e-5\u001b[0m\u001b[0;34m)\u001b[0m\u001b[0;34m\u001b[0m\u001b[0;34m\u001b[0m\u001b[0m\n\u001b[0m\u001b[1;32m      2\u001b[0m \u001b[0mprint\u001b[0m\u001b[0;34m(\u001b[0m\u001b[0;34m\"Data Independent Epsilon:\"\u001b[0m\u001b[0;34m,\u001b[0m \u001b[0mdata_ind_eps\u001b[0m\u001b[0;34m)\u001b[0m\u001b[0;34m\u001b[0m\u001b[0;34m\u001b[0m\u001b[0m\n\u001b[1;32m      3\u001b[0m \u001b[0mprint\u001b[0m\u001b[0;34m(\u001b[0m\u001b[0;34m\"Data Dependent Epsilon:\"\u001b[0m\u001b[0;34m,\u001b[0m \u001b[0mdata_dep_eps\u001b[0m\u001b[0;34m)\u001b[0m\u001b[0;34m\u001b[0m\u001b[0;34m\u001b[0m\u001b[0m\n",
            "\u001b[0;31mAttributeError\u001b[0m: 'numpy.ndarray' object has no attribute 'numpy'"
          ]
        }
      ]
    },
    {
      "cell_type": "code",
      "metadata": {
        "id": "uxffAixCtANt",
        "colab_type": "code",
        "colab": {}
      },
      "source": [
        ""
      ],
      "execution_count": 0,
      "outputs": []
    }
  ]
}